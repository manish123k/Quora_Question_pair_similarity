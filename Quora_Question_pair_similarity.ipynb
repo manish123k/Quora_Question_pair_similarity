{
  "cells": [
    {
      "cell_type": "markdown",
      "metadata": {
        "id": "view-in-github",
        "colab_type": "text"
      },
      "source": [
        "<a href=\"https://colab.research.google.com/github/manish123k/Quora_Question_pair_similarity/blob/main/Quora_Question_pair_similarity.ipynb\" target=\"_parent\"><img src=\"https://colab.research.google.com/assets/colab-badge.svg\" alt=\"Open In Colab\"/></a>"
      ]
    },
    {
      "cell_type": "markdown",
      "metadata": {
        "id": "GRLPbndqlhDu"
      },
      "source": [
        "<h3> Data Overview </h3>"
      ]
    },
    {
      "cell_type": "markdown",
      "metadata": {
        "id": "B0d8EzH0lhDv"
      },
      "source": [
        "<p>\n",
        "- Data will be in a file Train.csv <br>\n",
        "- Train.csv contains 5 columns : qid1, qid2, question1, question2, is_duplicate <br>\n",
        "- Size of Train.csv - 60MB <br>\n",
        "- Number of rows in Train.csv = 404,290\n",
        "</p>"
      ]
    },
    {
      "cell_type": "markdown",
      "metadata": {
        "id": "pHj3h1Q4lhDv"
      },
      "source": [
        "<h3> Example Data point </h3>"
      ]
    },
    {
      "cell_type": "markdown",
      "metadata": {
        "id": "3rBEk1xDlhDw"
      },
      "source": [
        "<pre>\n",
        "\"id\",\"qid1\",\"qid2\",\"question1\",\"question2\",\"is_duplicate\"\n",
        "\"0\",\"1\",\"2\",\"What is the step by step guide to invest in share market in india?\",\"What is the step by step guide to invest in share market?\",\"0\"\n",
        "\"1\",\"3\",\"4\",\"What is the story of Kohinoor (Koh-i-Noor) Diamond?\",\"What would happen if the Indian government stole the Kohinoor (Koh-i-Noor) diamond back?\",\"0\"\n",
        "\"7\",\"15\",\"16\",\"How can I be a good geologist?\",\"What should I do to be a great geologist?\",\"1\"\n",
        "\"11\",\"23\",\"24\",\"How do I read and find my YouTube comments?\",\"How can I see all my Youtube comments?\",\"1\"\n",
        "</pre>"
      ]
    },
    {
      "cell_type": "code",
      "execution_count": null,
      "metadata": {
        "id": "PCFl8tFWQCQ4"
      },
      "outputs": [],
      "source": []
    },
    {
      "cell_type": "code",
      "execution_count": null,
      "metadata": {
        "colab": {
          "base_uri": "https://localhost:8080/"
        },
        "id": "9uThqdCHQJo6",
        "outputId": "72b3b0fe-d890-4299-9dc8-28c4e37eec1a"
      },
      "outputs": [
        {
          "output_type": "stream",
          "name": "stdout",
          "text": [
            "Mounted at /content/drive\n"
          ]
        }
      ],
      "source": [
        "from google.colab import drive\n",
        "drive.mount('/content/drive')"
      ]
    },
    {
      "cell_type": "markdown",
      "metadata": {
        "id": "LTyxNoholhD0"
      },
      "source": [
        "<h1>Exploratory Data Analysis </h1>"
      ]
    },
    {
      "cell_type": "code",
      "execution_count": null,
      "metadata": {
        "id": "ygnjf3fwlhD0",
        "scrolled": true
      },
      "outputs": [],
      "source": [
        "import numpy as np\n",
        "import pandas as pd\n",
        "from keras.preprocessing.text import Tokenizer\n",
        "from keras.utils.data_utils import pad_sequences\n",
        "from nltk.tokenize import word_tokenize\n",
        "import re\n",
        "from nltk.stem import WordNetLemmatizer\n",
        "from nltk.corpus import stopwords\n",
        "import tensorflow as tf\n",
        "from tensorflow.python.keras.layers import *\n",
        "from tensorflow.python.keras.models import Model\n",
        "import matplotlib.pyplot as plt\n",
        "import seaborn as sns\n",
        "%matplotlib inline\n"
      ]
    },
    {
      "cell_type": "markdown",
      "metadata": {
        "id": "y5PzZi-olhD3"
      },
      "source": [
        "<h2> 3.1 Reading data and basic stats </h2>"
      ]
    },
    {
      "cell_type": "code",
      "execution_count": null,
      "metadata": {
        "colab": {
          "base_uri": "https://localhost:8080/"
        },
        "id": "oBsKqMhXlhD4",
        "outputId": "888709bf-61bf-4c93-fd2d-705d404ca72a",
        "scrolled": true
      },
      "outputs": [
        {
          "name": "stdout",
          "output_type": "stream",
          "text": [
            "Number of data points: 404290\n"
          ]
        }
      ],
      "source": [
        "df = pd.read_csv(\"/content/drive/MyDrive/major project/train.csv\")\n",
        "\n",
        "print(\"Number of data points:\",df.shape[0])"
      ]
    },
    {
      "cell_type": "code",
      "execution_count": null,
      "metadata": {
        "colab": {
          "base_uri": "https://localhost:8080/",
          "height": 206
        },
        "id": "0oF1pz9HlhD4",
        "outputId": "f48ab858-59a1-4b41-f193-b05630012450",
        "scrolled": true
      },
      "outputs": [
        {
          "data": {
            "text/html": [
              "\n",
              "  <div id=\"df-2110f2d4-9e58-4c76-a121-85db391e6365\">\n",
              "    <div class=\"colab-df-container\">\n",
              "      <div>\n",
              "<style scoped>\n",
              "    .dataframe tbody tr th:only-of-type {\n",
              "        vertical-align: middle;\n",
              "    }\n",
              "\n",
              "    .dataframe tbody tr th {\n",
              "        vertical-align: top;\n",
              "    }\n",
              "\n",
              "    .dataframe thead th {\n",
              "        text-align: right;\n",
              "    }\n",
              "</style>\n",
              "<table border=\"1\" class=\"dataframe\">\n",
              "  <thead>\n",
              "    <tr style=\"text-align: right;\">\n",
              "      <th></th>\n",
              "      <th>id</th>\n",
              "      <th>qid1</th>\n",
              "      <th>qid2</th>\n",
              "      <th>question1</th>\n",
              "      <th>question2</th>\n",
              "      <th>is_duplicate</th>\n",
              "    </tr>\n",
              "  </thead>\n",
              "  <tbody>\n",
              "    <tr>\n",
              "      <th>0</th>\n",
              "      <td>0</td>\n",
              "      <td>1</td>\n",
              "      <td>2</td>\n",
              "      <td>What is the step by step guide to invest in sh...</td>\n",
              "      <td>What is the step by step guide to invest in sh...</td>\n",
              "      <td>0</td>\n",
              "    </tr>\n",
              "    <tr>\n",
              "      <th>1</th>\n",
              "      <td>1</td>\n",
              "      <td>3</td>\n",
              "      <td>4</td>\n",
              "      <td>What is the story of Kohinoor (Koh-i-Noor) Dia...</td>\n",
              "      <td>What would happen if the Indian government sto...</td>\n",
              "      <td>0</td>\n",
              "    </tr>\n",
              "    <tr>\n",
              "      <th>2</th>\n",
              "      <td>2</td>\n",
              "      <td>5</td>\n",
              "      <td>6</td>\n",
              "      <td>How can I increase the speed of my internet co...</td>\n",
              "      <td>How can Internet speed be increased by hacking...</td>\n",
              "      <td>0</td>\n",
              "    </tr>\n",
              "    <tr>\n",
              "      <th>3</th>\n",
              "      <td>3</td>\n",
              "      <td>7</td>\n",
              "      <td>8</td>\n",
              "      <td>Why am I mentally very lonely? How can I solve...</td>\n",
              "      <td>Find the remainder when [math]23^{24}[/math] i...</td>\n",
              "      <td>0</td>\n",
              "    </tr>\n",
              "    <tr>\n",
              "      <th>4</th>\n",
              "      <td>4</td>\n",
              "      <td>9</td>\n",
              "      <td>10</td>\n",
              "      <td>Which one dissolve in water quikly sugar, salt...</td>\n",
              "      <td>Which fish would survive in salt water?</td>\n",
              "      <td>0</td>\n",
              "    </tr>\n",
              "  </tbody>\n",
              "</table>\n",
              "</div>\n",
              "      <button class=\"colab-df-convert\" onclick=\"convertToInteractive('df-2110f2d4-9e58-4c76-a121-85db391e6365')\"\n",
              "              title=\"Convert this dataframe to an interactive table.\"\n",
              "              style=\"display:none;\">\n",
              "        \n",
              "  <svg xmlns=\"http://www.w3.org/2000/svg\" height=\"24px\"viewBox=\"0 0 24 24\"\n",
              "       width=\"24px\">\n",
              "    <path d=\"M0 0h24v24H0V0z\" fill=\"none\"/>\n",
              "    <path d=\"M18.56 5.44l.94 2.06.94-2.06 2.06-.94-2.06-.94-.94-2.06-.94 2.06-2.06.94zm-11 1L8.5 8.5l.94-2.06 2.06-.94-2.06-.94L8.5 2.5l-.94 2.06-2.06.94zm10 10l.94 2.06.94-2.06 2.06-.94-2.06-.94-.94-2.06-.94 2.06-2.06.94z\"/><path d=\"M17.41 7.96l-1.37-1.37c-.4-.4-.92-.59-1.43-.59-.52 0-1.04.2-1.43.59L10.3 9.45l-7.72 7.72c-.78.78-.78 2.05 0 2.83L4 21.41c.39.39.9.59 1.41.59.51 0 1.02-.2 1.41-.59l7.78-7.78 2.81-2.81c.8-.78.8-2.07 0-2.86zM5.41 20L4 18.59l7.72-7.72 1.47 1.35L5.41 20z\"/>\n",
              "  </svg>\n",
              "      </button>\n",
              "      \n",
              "  <style>\n",
              "    .colab-df-container {\n",
              "      display:flex;\n",
              "      flex-wrap:wrap;\n",
              "      gap: 12px;\n",
              "    }\n",
              "\n",
              "    .colab-df-convert {\n",
              "      background-color: #E8F0FE;\n",
              "      border: none;\n",
              "      border-radius: 50%;\n",
              "      cursor: pointer;\n",
              "      display: none;\n",
              "      fill: #1967D2;\n",
              "      height: 32px;\n",
              "      padding: 0 0 0 0;\n",
              "      width: 32px;\n",
              "    }\n",
              "\n",
              "    .colab-df-convert:hover {\n",
              "      background-color: #E2EBFA;\n",
              "      box-shadow: 0px 1px 2px rgba(60, 64, 67, 0.3), 0px 1px 3px 1px rgba(60, 64, 67, 0.15);\n",
              "      fill: #174EA6;\n",
              "    }\n",
              "\n",
              "    [theme=dark] .colab-df-convert {\n",
              "      background-color: #3B4455;\n",
              "      fill: #D2E3FC;\n",
              "    }\n",
              "\n",
              "    [theme=dark] .colab-df-convert:hover {\n",
              "      background-color: #434B5C;\n",
              "      box-shadow: 0px 1px 3px 1px rgba(0, 0, 0, 0.15);\n",
              "      filter: drop-shadow(0px 1px 2px rgba(0, 0, 0, 0.3));\n",
              "      fill: #FFFFFF;\n",
              "    }\n",
              "  </style>\n",
              "\n",
              "      <script>\n",
              "        const buttonEl =\n",
              "          document.querySelector('#df-2110f2d4-9e58-4c76-a121-85db391e6365 button.colab-df-convert');\n",
              "        buttonEl.style.display =\n",
              "          google.colab.kernel.accessAllowed ? 'block' : 'none';\n",
              "\n",
              "        async function convertToInteractive(key) {\n",
              "          const element = document.querySelector('#df-2110f2d4-9e58-4c76-a121-85db391e6365');\n",
              "          const dataTable =\n",
              "            await google.colab.kernel.invokeFunction('convertToInteractive',\n",
              "                                                     [key], {});\n",
              "          if (!dataTable) return;\n",
              "\n",
              "          const docLinkHtml = 'Like what you see? Visit the ' +\n",
              "            '<a target=\"_blank\" href=https://colab.research.google.com/notebooks/data_table.ipynb>data table notebook</a>'\n",
              "            + ' to learn more about interactive tables.';\n",
              "          element.innerHTML = '';\n",
              "          dataTable['output_type'] = 'display_data';\n",
              "          await google.colab.output.renderOutput(dataTable, element);\n",
              "          const docLink = document.createElement('div');\n",
              "          docLink.innerHTML = docLinkHtml;\n",
              "          element.appendChild(docLink);\n",
              "        }\n",
              "      </script>\n",
              "    </div>\n",
              "  </div>\n",
              "  "
            ],
            "text/plain": [
              "   id  qid1  qid2                                          question1  \\\n",
              "0   0     1     2  What is the step by step guide to invest in sh...   \n",
              "1   1     3     4  What is the story of Kohinoor (Koh-i-Noor) Dia...   \n",
              "2   2     5     6  How can I increase the speed of my internet co...   \n",
              "3   3     7     8  Why am I mentally very lonely? How can I solve...   \n",
              "4   4     9    10  Which one dissolve in water quikly sugar, salt...   \n",
              "\n",
              "                                           question2  is_duplicate  \n",
              "0  What is the step by step guide to invest in sh...             0  \n",
              "1  What would happen if the Indian government sto...             0  \n",
              "2  How can Internet speed be increased by hacking...             0  \n",
              "3  Find the remainder when [math]23^{24}[/math] i...             0  \n",
              "4            Which fish would survive in salt water?             0  "
            ]
          },
          "execution_count": 4,
          "metadata": {},
          "output_type": "execute_result"
        }
      ],
      "source": [
        "df.head()"
      ]
    },
    {
      "cell_type": "code",
      "execution_count": null,
      "metadata": {
        "colab": {
          "base_uri": "https://localhost:8080/"
        },
        "id": "UtnYYRQ_lhD5",
        "outputId": "0be0ff35-529d-45ff-92c3-bacf5bac2588",
        "scrolled": false
      },
      "outputs": [
        {
          "name": "stdout",
          "output_type": "stream",
          "text": [
            "<class 'pandas.core.frame.DataFrame'>\n",
            "RangeIndex: 404290 entries, 0 to 404289\n",
            "Data columns (total 6 columns):\n",
            " #   Column        Non-Null Count   Dtype \n",
            "---  ------        --------------   ----- \n",
            " 0   id            404290 non-null  int64 \n",
            " 1   qid1          404290 non-null  int64 \n",
            " 2   qid2          404290 non-null  int64 \n",
            " 3   question1     404289 non-null  object\n",
            " 4   question2     404288 non-null  object\n",
            " 5   is_duplicate  404290 non-null  int64 \n",
            "dtypes: int64(4), object(2)\n",
            "memory usage: 18.5+ MB\n"
          ]
        }
      ],
      "source": [
        "df.info()"
      ]
    },
    {
      "cell_type": "markdown",
      "metadata": {
        "id": "Nah6_tntlhD5"
      },
      "source": [
        "We are given a minimal number of data fields here, consisting of:\n",
        "\n",
        "- id:  Looks like a simple rowID\n",
        "- qid{1, 2}:  The unique ID of each question in the pair\n",
        "- question{1, 2}:  The actual textual contents of the questions.\n",
        "- is_duplicate:  The label that we are trying to predict - whether the two questions are duplicates of each other."
      ]
    },
    {
      "cell_type": "markdown",
      "metadata": {
        "id": "b70vD_zclhD6"
      },
      "source": [
        "<h3> 3.2.1 Distribution of data points among output classes</h3>\n",
        "- Number of duplicate(smilar) and non-duplicate(non similar) questions"
      ]
    },
    {
      "cell_type": "code",
      "execution_count": null,
      "metadata": {
        "colab": {
          "base_uri": "https://localhost:8080/",
          "height": 461
        },
        "id": "for2Mz-FlhD6",
        "outputId": "b3a4f77b-2ac3-4ebd-9984-2d0bfd452520",
        "scrolled": true
      },
      "outputs": [
        {
          "data": {
            "text/plain": [
              "<Axes: xlabel='is_duplicate'>"
            ]
          },
          "execution_count": 6,
          "metadata": {},
          "output_type": "execute_result"
        },
        {
          "data": {
            "image/png": "[encoded data removed]",
            "text/plain": [
              "<Figure size 640x480 with 1 Axes>"
            ]
          },
          "metadata": {},
          "output_type": "display_data"
        }
      ],
      "source": [
        "df.groupby(\"is_duplicate\")['id'].count().plot.bar()"
      ]
    },
    {
      "cell_type": "code",
      "execution_count": null,
      "metadata": {
        "colab": {
          "base_uri": "https://localhost:8080/"
        },
        "id": "dTGMr5W_lhD7",
        "outputId": "10533d93-89f3-4746-aa8c-178d9fa081fe",
        "scrolled": true
      },
      "outputs": [
        {
          "name": "stdout",
          "output_type": "stream",
          "text": [
            "~> Total number of question pairs for training:\n",
            "   404290\n"
          ]
        }
      ],
      "source": [
        "print('~> Total number of question pairs for training:\\n   {}'.format(len(df)))"
      ]
    },
    {
      "cell_type": "code",
      "execution_count": null,
      "metadata": {
        "colab": {
          "base_uri": "https://localhost:8080/"
        },
        "id": "CQDnWhsqlhD7",
        "outputId": "44eb9cd3-69cf-4c43-f04c-8bc306bbafdf",
        "scrolled": true
      },
      "outputs": [
        {
          "name": "stdout",
          "output_type": "stream",
          "text": [
            "~> Question pairs are not Similar (is_duplicate = 0):\n",
            "   63.08%\n",
            "\n",
            "~> Question pairs are Similar (is_duplicate = 1):\n",
            "   36.92%\n"
          ]
        }
      ],
      "source": [
        "print('~> Question pairs are not Similar (is_duplicate = 0):\\n   {}%'.format(100 - round(df['is_duplicate'].mean()*100, 2)))\n",
        "print('\\n~> Question pairs are Similar (is_duplicate = 1):\\n   {}%'.format(round(df['is_duplicate'].mean()*100, 2)))"
      ]
    },
    {
      "cell_type": "markdown",
      "metadata": {
        "id": "qiJA7L7AlhD8"
      },
      "source": [
        "<h3> 3.2.2 Number of unique questions </h3>"
      ]
    },
    {
      "cell_type": "code",
      "execution_count": null,
      "metadata": {
        "colab": {
          "base_uri": "https://localhost:8080/"
        },
        "id": "ofMeZqADlhD8",
        "outputId": "4aea4e2a-e3c3-4f50-c21a-d72640d83469",
        "scrolled": true
      },
      "outputs": [
        {
          "name": "stdout",
          "output_type": "stream",
          "text": [
            "Total number of  Unique Questions are: 537933\n",
            "\n",
            "Number of unique questions that appear more than one time: 111780 (20.77953945937505%)\n",
            "\n",
            "Max number of times a single question is repeated: 157\n",
            "\n"
          ]
        }
      ],
      "source": [
        "qids = pd.Series(df['qid1'].tolist() + df['qid2'].tolist())\n",
        "unique_qs = len(np.unique(qids))\n",
        "qs_morethan_onetime = np.sum(qids.value_counts() > 1)\n",
        "print ('Total number of  Unique Questions are: {}\\n'.format(unique_qs))\n",
        "#print len(np.unique(qids))\n",
        "\n",
        "print ('Number of unique questions that appear more than one time: {} ({}%)\\n'.format(qs_morethan_onetime,qs_morethan_onetime/unique_qs*100))\n",
        "\n",
        "print ('Max number of times a single question is repeated: {}\\n'.format(max(qids.value_counts())))\n",
        "\n",
        "q_vals=qids.value_counts()\n",
        "\n",
        "q_vals=q_vals.values"
      ]
    },
    {
      "cell_type": "code",
      "execution_count": null,
      "metadata": {
        "colab": {
          "base_uri": "https://localhost:8080/",
          "height": 545
        },
        "id": "tTNiA6kxlhD9",
        "outputId": "fa8ebc6b-0b68-4a78-b2e7-0ca0db51847c",
        "scrolled": false
      },
      "outputs": [
        {
          "data": {
            "image/png": "[encoded data removed]",
            "text/plain": [
              "<Figure size 1000x600 with 1 Axes>"
            ]
          },
          "metadata": {},
          "output_type": "display_data"
        }
      ],
      "source": [
        "plt.figure(figsize=(10, 6))\n",
        "plt.title (\"Plot representing unique and repeated questions  \")\n",
        "sns.barplot(x=[\"unique_questions\" , \"Repeated Questions\"],y=[unique_qs , qs_morethan_onetime])\n",
        "plt.show()"
      ]
    },
    {
      "cell_type": "markdown",
      "metadata": {
        "id": "_ufPQRzZlhD9"
      },
      "source": [
        "<h3>3.2.3 Checking for Duplicates </h3>"
      ]
    },
    {
      "cell_type": "code",
      "execution_count": null,
      "metadata": {
        "colab": {
          "base_uri": "https://localhost:8080/"
        },
        "id": "OEW7afRclhD-",
        "outputId": "2a8ed375-7b0e-4b5c-e179-839934f77205",
        "scrolled": true
      },
      "outputs": [
        {
          "name": "stdout",
          "output_type": "stream",
          "text": [
            "Number of duplicate questions 0\n"
          ]
        }
      ],
      "source": [
        "#checking whether there are any repeated pair of questions\n",
        "\n",
        "pair_duplicates = df[['qid1','qid2','is_duplicate']].groupby(['qid1','qid2']).count().reset_index()\n",
        "\n",
        "print (\"Number of duplicate questions\",(pair_duplicates).shape[0] - df.shape[0])"
      ]
    },
    {
      "cell_type": "markdown",
      "metadata": {
        "id": "21mvh8IhlhD_"
      },
      "source": [
        "<h3> 3.2.4 Number of occurrences of each question </h3>"
      ]
    },
    {
      "cell_type": "code",
      "execution_count": null,
      "metadata": {
        "colab": {
          "base_uri": "https://localhost:8080/",
          "height": 672
        },
        "id": "hhl57NE0lhD_",
        "outputId": "6b9c33d1-3082-4c9c-ef9d-ac20cbe32a8c",
        "scrolled": false
      },
      "outputs": [
        {
          "name": "stdout",
          "output_type": "stream",
          "text": [
            "Maximum number of times a single question is repeated: 157\n",
            "\n"
          ]
        },
        {
          "data": {
            "image/png": "[encoded data removed]",
            "text/plain": [
              "<Figure size 2000x1000 with 1 Axes>"
            ]
          },
          "metadata": {},
          "output_type": "display_data"
        }
      ],
      "source": [
        "plt.figure(figsize=(20, 10))\n",
        "\n",
        "plt.hist(qids.value_counts(), bins=160)\n",
        "plt.yscale('log')\n",
        "plt.title('Log-Histogram of question appearance counts')\n",
        "\n",
        "plt.xlabel('Number of occurences of question')\n",
        "\n",
        "plt.ylabel('Number of questions')\n",
        "\n",
        "print ('Maximum number of times a single question is repeated: {}\\n'.format(max(qids.value_counts())))"
      ]
    },
    {
      "cell_type": "markdown",
      "metadata": {
        "id": "8sDfcX5elhEA"
      },
      "source": [
        "<h3> 3.2.5 Checking for NULL values </h3>"
      ]
    },
    {
      "cell_type": "code",
      "execution_count": null,
      "metadata": {
        "colab": {
          "base_uri": "https://localhost:8080/"
        },
        "id": "74U6Id07lhEA",
        "outputId": "297783aa-93af-4417-a850-003e356fb96b",
        "scrolled": true
      },
      "outputs": [
        {
          "name": "stdout",
          "output_type": "stream",
          "text": [
            "            id    qid1    qid2                         question1  \\\n",
            "105780  105780  174363  174364    How can I develop android app?   \n",
            "201841  201841  303951  174364  How can I create an Android app?   \n",
            "363362  363362  493340  493341                               NaN   \n",
            "\n",
            "                                                question2  is_duplicate  \n",
            "105780                                                NaN             0  \n",
            "201841                                                NaN             0  \n",
            "363362  My Chinese name is Haichao Yu. What English na...             0  \n"
          ]
        },
        {
          "name": "stderr",
          "output_type": "stream",
          "text": [
            "<ipython-input-13-ef527fb60746>:2: FutureWarning: In a future version of pandas all arguments of DataFrame.any and Series.any will be keyword-only.\n",
            "  nan_rows = df[df.isnull().any(1)]\n"
          ]
        }
      ],
      "source": [
        "#Checking whether there are any rows with null values\n",
        "nan_rows = df[df.isnull().any(1)]\n",
        "print (nan_rows)"
      ]
    },
    {
      "cell_type": "markdown",
      "metadata": {
        "id": "--a-vIfhlhEA"
      },
      "source": [
        "- There are two rows with null values in question2"
      ]
    },
    {
      "cell_type": "code",
      "execution_count": null,
      "metadata": {
        "colab": {
          "base_uri": "https://localhost:8080/"
        },
        "id": "RnlFdr57lhEB",
        "outputId": "34a86f4f-faa2-4d0e-95c9-694299ff5632",
        "scrolled": true
      },
      "outputs": [
        {
          "name": "stdout",
          "output_type": "stream",
          "text": [
            "Empty DataFrame\n",
            "Columns: [id, qid1, qid2, question1, question2, is_duplicate]\n",
            "Index: []\n"
          ]
        },
        {
          "name": "stderr",
          "output_type": "stream",
          "text": [
            "<ipython-input-14-f7ad6d675d3d>:3: FutureWarning: In a future version of pandas all arguments of DataFrame.any and Series.any will be keyword-only.\n",
            "  nan_rows = df[df.isnull().any(1)]\n"
          ]
        }
      ],
      "source": [
        "# Filling the null values with ' '\n",
        "df = df.fillna('')\n",
        "nan_rows = df[df.isnull().any(1)]\n",
        "print (nan_rows)"
      ]
    },
    {
      "cell_type": "code",
      "execution_count": null,
      "metadata": {
        "colab": {
          "base_uri": "https://localhost:8080/"
        },
        "id": "6N6wJXQSJY2c",
        "outputId": "8befe5c5-cf79-4ad4-ecab-c535f8b175f0"
      },
      "outputs": [
        {
          "name": "stderr",
          "output_type": "stream",
          "text": [
            "[nltk_data] Downloading package punkt to /root/nltk_data...\n",
            "[nltk_data]   Unzipping tokenizers/punkt.zip.\n"
          ]
        },
        {
          "data": {
            "text/plain": [
              "True"
            ]
          },
          "execution_count": 15,
          "metadata": {},
          "output_type": "execute_result"
        }
      ],
      "source": [
        "import nltk\n",
        "nltk.download('punkt')"
      ]
    },
    {
      "cell_type": "code",
      "execution_count": null,
      "metadata": {
        "id": "iqD7oFmURKTh"
      },
      "outputs": [],
      "source": [
        "def tokenize(s):\n",
        "    tokens = word_tokenize(str(s))\n",
        "    ans=[]\n",
        "    for w in tokens:\n",
        "      sm = re.sub('[^A-Za-z0-9]',' ', str(w))\n",
        "      ans.append(sm)\n",
        "\n",
        "    s1=' '.join(ans)\n",
        "    s1=s1.split()\n",
        "    s=' '.join(s1)\n",
        "    return s.lower()"
      ]
    },
    {
      "cell_type": "code",
      "execution_count": null,
      "metadata": {
        "colab": {
          "base_uri": "https://localhost:8080/",
          "height": 35
        },
        "id": "Ki4mTQerJLXi",
        "outputId": "f03d64aa-2fcf-4c35-88ee-1c09563fd3fc"
      },
      "outputs": [
        {
          "data": {
            "application/vnd.google.colaboratory.intrinsic+json": {
              "type": "string"
            },
            "text/plain": [
              "'find the remainder when math 23 24 math'"
            ]
          },
          "execution_count": 17,
          "metadata": {},
          "output_type": "execute_result"
        }
      ],
      "source": [
        "tokenize(\"Find the remainder when [math]23^{24}[/math]\")"
      ]
    },
    {
      "cell_type": "code",
      "execution_count": null,
      "metadata": {
        "id": "zuSFwPCZSNXp"
      },
      "outputs": [],
      "source": [
        "df[\"question1\"]=df[\"question1\"].apply(tokenize)"
      ]
    },
    {
      "cell_type": "code",
      "execution_count": null,
      "metadata": {
        "id": "76RbpY3sMJjd"
      },
      "outputs": [],
      "source": [
        "df[\"question2\"]=df[\"question2\"].apply(tokenize)"
      ]
    },
    {
      "cell_type": "code",
      "execution_count": null,
      "metadata": {
        "colab": {
          "base_uri": "https://localhost:8080/",
          "height": 206
        },
        "id": "p6QiZ3ySX7nH",
        "outputId": "7a0b53fc-cfd2-47e7-d678-922b12ee39d1"
      },
      "outputs": [
        {
          "data": {
            "text/html": [
              "\n",
              "  <div id=\"df-22272c71-64d6-4513-9f68-c5f03f7c0e25\">\n",
              "    <div class=\"colab-df-container\">\n",
              "      <div>\n",
              "<style scoped>\n",
              "    .dataframe tbody tr th:only-of-type {\n",
              "        vertical-align: middle;\n",
              "    }\n",
              "\n",
              "    .dataframe tbody tr th {\n",
              "        vertical-align: top;\n",
              "    }\n",
              "\n",
              "    .dataframe thead th {\n",
              "        text-align: right;\n",
              "    }\n",
              "</style>\n",
              "<table border=\"1\" class=\"dataframe\">\n",
              "  <thead>\n",
              "    <tr style=\"text-align: right;\">\n",
              "      <th></th>\n",
              "      <th>id</th>\n",
              "      <th>qid1</th>\n",
              "      <th>qid2</th>\n",
              "      <th>question1</th>\n",
              "      <th>question2</th>\n",
              "      <th>is_duplicate</th>\n",
              "    </tr>\n",
              "  </thead>\n",
              "  <tbody>\n",
              "    <tr>\n",
              "      <th>0</th>\n",
              "      <td>0</td>\n",
              "      <td>1</td>\n",
              "      <td>2</td>\n",
              "      <td>what is the step by step guide to invest in sh...</td>\n",
              "      <td>what is the step by step guide to invest in sh...</td>\n",
              "      <td>0</td>\n",
              "    </tr>\n",
              "    <tr>\n",
              "      <th>1</th>\n",
              "      <td>1</td>\n",
              "      <td>3</td>\n",
              "      <td>4</td>\n",
              "      <td>what is the story of kohinoor koh i noor diamond</td>\n",
              "      <td>what would happen if the indian government sto...</td>\n",
              "      <td>0</td>\n",
              "    </tr>\n",
              "    <tr>\n",
              "      <th>2</th>\n",
              "      <td>2</td>\n",
              "      <td>5</td>\n",
              "      <td>6</td>\n",
              "      <td>how can i increase the speed of my internet co...</td>\n",
              "      <td>how can internet speed be increased by hacking...</td>\n",
              "      <td>0</td>\n",
              "    </tr>\n",
              "    <tr>\n",
              "      <th>3</th>\n",
              "      <td>3</td>\n",
              "      <td>7</td>\n",
              "      <td>8</td>\n",
              "      <td>why am i mentally very lonely how can i solve it</td>\n",
              "      <td>find the remainder when math 23 24 math is div...</td>\n",
              "      <td>0</td>\n",
              "    </tr>\n",
              "    <tr>\n",
              "      <th>4</th>\n",
              "      <td>4</td>\n",
              "      <td>9</td>\n",
              "      <td>10</td>\n",
              "      <td>which one dissolve in water quikly sugar salt ...</td>\n",
              "      <td>which fish would survive in salt water</td>\n",
              "      <td>0</td>\n",
              "    </tr>\n",
              "  </tbody>\n",
              "</table>\n",
              "</div>\n",
              "      <button class=\"colab-df-convert\" onclick=\"convertToInteractive('df-22272c71-64d6-4513-9f68-c5f03f7c0e25')\"\n",
              "              title=\"Convert this dataframe to an interactive table.\"\n",
              "              style=\"display:none;\">\n",
              "        \n",
              "  <svg xmlns=\"http://www.w3.org/2000/svg\" height=\"24px\"viewBox=\"0 0 24 24\"\n",
              "       width=\"24px\">\n",
              "    <path d=\"M0 0h24v24H0V0z\" fill=\"none\"/>\n",
              "    <path d=\"M18.56 5.44l.94 2.06.94-2.06 2.06-.94-2.06-.94-.94-2.06-.94 2.06-2.06.94zm-11 1L8.5 8.5l.94-2.06 2.06-.94-2.06-.94L8.5 2.5l-.94 2.06-2.06.94zm10 10l.94 2.06.94-2.06 2.06-.94-2.06-.94-.94-2.06-.94 2.06-2.06.94z\"/><path d=\"M17.41 7.96l-1.37-1.37c-.4-.4-.92-.59-1.43-.59-.52 0-1.04.2-1.43.59L10.3 9.45l-7.72 7.72c-.78.78-.78 2.05 0 2.83L4 21.41c.39.39.9.59 1.41.59.51 0 1.02-.2 1.41-.59l7.78-7.78 2.81-2.81c.8-.78.8-2.07 0-2.86zM5.41 20L4 18.59l7.72-7.72 1.47 1.35L5.41 20z\"/>\n",
              "  </svg>\n",
              "      </button>\n",
              "      \n",
              "  <style>\n",
              "    .colab-df-container {\n",
              "      display:flex;\n",
              "      flex-wrap:wrap;\n",
              "      gap: 12px;\n",
              "    }\n",
              "\n",
              "    .colab-df-convert {\n",
              "      background-color: #E8F0FE;\n",
              "      border: none;\n",
              "      border-radius: 50%;\n",
              "      cursor: pointer;\n",
              "      display: none;\n",
              "      fill: #1967D2;\n",
              "      height: 32px;\n",
              "      padding: 0 0 0 0;\n",
              "      width: 32px;\n",
              "    }\n",
              "\n",
              "    .colab-df-convert:hover {\n",
              "      background-color: #E2EBFA;\n",
              "      box-shadow: 0px 1px 2px rgba(60, 64, 67, 0.3), 0px 1px 3px 1px rgba(60, 64, 67, 0.15);\n",
              "      fill: #174EA6;\n",
              "    }\n",
              "\n",
              "    [theme=dark] .colab-df-convert {\n",
              "      background-color: #3B4455;\n",
              "      fill: #D2E3FC;\n",
              "    }\n",
              "\n",
              "    [theme=dark] .colab-df-convert:hover {\n",
              "      background-color: #434B5C;\n",
              "      box-shadow: 0px 1px 3px 1px rgba(0, 0, 0, 0.15);\n",
              "      filter: drop-shadow(0px 1px 2px rgba(0, 0, 0, 0.3));\n",
              "      fill: #FFFFFF;\n",
              "    }\n",
              "  </style>\n",
              "\n",
              "      <script>\n",
              "        const buttonEl =\n",
              "          document.querySelector('#df-22272c71-64d6-4513-9f68-c5f03f7c0e25 button.colab-df-convert');\n",
              "        buttonEl.style.display =\n",
              "          google.colab.kernel.accessAllowed ? 'block' : 'none';\n",
              "\n",
              "        async function convertToInteractive(key) {\n",
              "          const element = document.querySelector('#df-22272c71-64d6-4513-9f68-c5f03f7c0e25');\n",
              "          const dataTable =\n",
              "            await google.colab.kernel.invokeFunction('convertToInteractive',\n",
              "                                                     [key], {});\n",
              "          if (!dataTable) return;\n",
              "\n",
              "          const docLinkHtml = 'Like what you see? Visit the ' +\n",
              "            '<a target=\"_blank\" href=https://colab.research.google.com/notebooks/data_table.ipynb>data table notebook</a>'\n",
              "            + ' to learn more about interactive tables.';\n",
              "          element.innerHTML = '';\n",
              "          dataTable['output_type'] = 'display_data';\n",
              "          await google.colab.output.renderOutput(dataTable, element);\n",
              "          const docLink = document.createElement('div');\n",
              "          docLink.innerHTML = docLinkHtml;\n",
              "          element.appendChild(docLink);\n",
              "        }\n",
              "      </script>\n",
              "    </div>\n",
              "  </div>\n",
              "  "
            ],
            "text/plain": [
              "   id  qid1  qid2                                          question1  \\\n",
              "0   0     1     2  what is the step by step guide to invest in sh...   \n",
              "1   1     3     4   what is the story of kohinoor koh i noor diamond   \n",
              "2   2     5     6  how can i increase the speed of my internet co...   \n",
              "3   3     7     8   why am i mentally very lonely how can i solve it   \n",
              "4   4     9    10  which one dissolve in water quikly sugar salt ...   \n",
              "\n",
              "                                           question2  is_duplicate  \n",
              "0  what is the step by step guide to invest in sh...             0  \n",
              "1  what would happen if the indian government sto...             0  \n",
              "2  how can internet speed be increased by hacking...             0  \n",
              "3  find the remainder when math 23 24 math is div...             0  \n",
              "4             which fish would survive in salt water             0  "
            ]
          },
          "execution_count": 20,
          "metadata": {},
          "output_type": "execute_result"
        }
      ],
      "source": [
        "df.head()"
      ]
    },
    {
      "cell_type": "code",
      "execution_count": null,
      "metadata": {
        "colab": {
          "base_uri": "https://localhost:8080/"
        },
        "id": "c3H0D16AYPwD",
        "outputId": "20385b01-f139-49a3-d3c7-0dbdc1736600"
      },
      "outputs": [
        {
          "name": "stderr",
          "output_type": "stream",
          "text": [
            "[nltk_data] Downloading package stopwords to /root/nltk_data...\n",
            "[nltk_data]   Unzipping corpora/stopwords.zip.\n"
          ]
        }
      ],
      "source": [
        "nltk.download('stopwords')\n",
        "from nltk.corpus import stopwords"
      ]
    },
    {
      "cell_type": "code",
      "execution_count": null,
      "metadata": {
        "id": "iaZvaShzhizv"
      },
      "outputs": [],
      "source": [
        "def my_stopword(data):\n",
        "  c=[word for word in data.split() if word not in stopwords.words(\"english\")]\n",
        "  return \" \".join(c)"
      ]
    },
    {
      "cell_type": "code",
      "execution_count": null,
      "metadata": {
        "colab": {
          "base_uri": "https://localhost:8080/",
          "height": 35
        },
        "id": "qra-dVHyi2gt",
        "outputId": "bbc00d91-3e11-4304-db73-e9262383f9fd"
      },
      "outputs": [
        {
          "data": {
            "application/vnd.google.colaboratory.intrinsic+json": {
              "type": "string"
            },
            "text/plain": [
              "'many keywords perl programmin'"
            ]
          },
          "execution_count": 22,
          "metadata": {},
          "output_type": "execute_result"
        }
      ],
      "source": [
        "my_stopword(\"how many keywords are there in perl programmin\")"
      ]
    },
    {
      "cell_type": "code",
      "execution_count": null,
      "metadata": {
        "colab": {
          "background_save": true
        },
        "id": "00USB8bGkVil"
      },
      "outputs": [],
      "source": [
        "df[\"question1\"]=df[\"question1\"].apply(my_stopword)\n",
        "df[\"question2\"]=df[\"question2\"].apply(my_stopword)"
      ]
    },
    {
      "cell_type": "code",
      "execution_count": null,
      "metadata": {
        "id": "HA10tVtCkvH2"
      },
      "outputs": [],
      "source": [
        "df.to_csv(\"cleaned_data.csv\")"
      ]
    },
    {
      "cell_type": "code",
      "execution_count": null,
      "metadata": {
        "id": "ukAaYsWReXo6"
      },
      "outputs": [],
      "source": [
        "df=pd.read_csv(\"/content/drive/MyDrive/major project/cleaned_data.csv\")"
      ]
    },
    {
      "cell_type": "code",
      "execution_count": null,
      "metadata": {
        "colab": {
          "base_uri": "https://localhost:8080/",
          "height": 320
        },
        "id": "JlbzdjAaefWr",
        "outputId": "7f4ddb51-398f-4829-c23e-79733f543688"
      },
      "outputs": [
        {
          "output_type": "execute_result",
          "data": {
            "text/plain": [
              "   Unnamed: 0  id  qid1  qid2  \\\n",
              "0           0   0     1     2   \n",
              "1           1   1     3     4   \n",
              "2           2   2     5     6   \n",
              "3           3   3     7     8   \n",
              "4           4   4     9    10   \n",
              "\n",
              "                                           question1  \\\n",
              "0          step step guide invest share market india   \n",
              "1                    story kohinoor koh noor diamond   \n",
              "2       increase speed internet connection using vpn   \n",
              "3                              mentally lonely solve   \n",
              "4  one dissolve water quikly sugar salt methane c...   \n",
              "\n",
              "                                           question2  is_duplicate  \n",
              "0                step step guide invest share market             0  \n",
              "1  would happen indian government stole kohinoor ...             0  \n",
              "2               internet speed increased hacking dns             0  \n",
              "3       find remainder math 23 24 math divided 24 23             0  \n",
              "4                      fish would survive salt water             0  "
            ],
            "text/html": [
              "\n",
              "  <div id=\"df-4442c7e9-48a1-4bad-a506-4e57f349f127\">\n",
              "    <div class=\"colab-df-container\">\n",
              "      <div>\n",
              "<style scoped>\n",
              "    .dataframe tbody tr th:only-of-type {\n",
              "        vertical-align: middle;\n",
              "    }\n",
              "\n",
              "    .dataframe tbody tr th {\n",
              "        vertical-align: top;\n",
              "    }\n",
              "\n",
              "    .dataframe thead th {\n",
              "        text-align: right;\n",
              "    }\n",
              "</style>\n",
              "<table border=\"1\" class=\"dataframe\">\n",
              "  <thead>\n",
              "    <tr style=\"text-align: right;\">\n",
              "      <th></th>\n",
              "      <th>Unnamed: 0</th>\n",
              "      <th>id</th>\n",
              "      <th>qid1</th>\n",
              "      <th>qid2</th>\n",
              "      <th>question1</th>\n",
              "      <th>question2</th>\n",
              "      <th>is_duplicate</th>\n",
              "    </tr>\n",
              "  </thead>\n",
              "  <tbody>\n",
              "    <tr>\n",
              "      <th>0</th>\n",
              "      <td>0</td>\n",
              "      <td>0</td>\n",
              "      <td>1</td>\n",
              "      <td>2</td>\n",
              "      <td>step step guide invest share market india</td>\n",
              "      <td>step step guide invest share market</td>\n",
              "      <td>0</td>\n",
              "    </tr>\n",
              "    <tr>\n",
              "      <th>1</th>\n",
              "      <td>1</td>\n",
              "      <td>1</td>\n",
              "      <td>3</td>\n",
              "      <td>4</td>\n",
              "      <td>story kohinoor koh noor diamond</td>\n",
              "      <td>would happen indian government stole kohinoor ...</td>\n",
              "      <td>0</td>\n",
              "    </tr>\n",
              "    <tr>\n",
              "      <th>2</th>\n",
              "      <td>2</td>\n",
              "      <td>2</td>\n",
              "      <td>5</td>\n",
              "      <td>6</td>\n",
              "      <td>increase speed internet connection using vpn</td>\n",
              "      <td>internet speed increased hacking dns</td>\n",
              "      <td>0</td>\n",
              "    </tr>\n",
              "    <tr>\n",
              "      <th>3</th>\n",
              "      <td>3</td>\n",
              "      <td>3</td>\n",
              "      <td>7</td>\n",
              "      <td>8</td>\n",
              "      <td>mentally lonely solve</td>\n",
              "      <td>find remainder math 23 24 math divided 24 23</td>\n",
              "      <td>0</td>\n",
              "    </tr>\n",
              "    <tr>\n",
              "      <th>4</th>\n",
              "      <td>4</td>\n",
              "      <td>4</td>\n",
              "      <td>9</td>\n",
              "      <td>10</td>\n",
              "      <td>one dissolve water quikly sugar salt methane c...</td>\n",
              "      <td>fish would survive salt water</td>\n",
              "      <td>0</td>\n",
              "    </tr>\n",
              "  </tbody>\n",
              "</table>\n",
              "</div>\n",
              "      <button class=\"colab-df-convert\" onclick=\"convertToInteractive('df-4442c7e9-48a1-4bad-a506-4e57f349f127')\"\n",
              "              title=\"Convert this dataframe to an interactive table.\"\n",
              "              style=\"display:none;\">\n",
              "        \n",
              "  <svg xmlns=\"http://www.w3.org/2000/svg\" height=\"24px\"viewBox=\"0 0 24 24\"\n",
              "       width=\"24px\">\n",
              "    <path d=\"M0 0h24v24H0V0z\" fill=\"none\"/>\n",
              "    <path d=\"M18.56 5.44l.94 2.06.94-2.06 2.06-.94-2.06-.94-.94-2.06-.94 2.06-2.06.94zm-11 1L8.5 8.5l.94-2.06 2.06-.94-2.06-.94L8.5 2.5l-.94 2.06-2.06.94zm10 10l.94 2.06.94-2.06 2.06-.94-2.06-.94-.94-2.06-.94 2.06-2.06.94z\"/><path d=\"M17.41 7.96l-1.37-1.37c-.4-.4-.92-.59-1.43-.59-.52 0-1.04.2-1.43.59L10.3 9.45l-7.72 7.72c-.78.78-.78 2.05 0 2.83L4 21.41c.39.39.9.59 1.41.59.51 0 1.02-.2 1.41-.59l7.78-7.78 2.81-2.81c.8-.78.8-2.07 0-2.86zM5.41 20L4 18.59l7.72-7.72 1.47 1.35L5.41 20z\"/>\n",
              "  </svg>\n",
              "      </button>\n",
              "      \n",
              "  <style>\n",
              "    .colab-df-container {\n",
              "      display:flex;\n",
              "      flex-wrap:wrap;\n",
              "      gap: 12px;\n",
              "    }\n",
              "\n",
              "    .colab-df-convert {\n",
              "      background-color: #E8F0FE;\n",
              "      border: none;\n",
              "      border-radius: 50%;\n",
              "      cursor: pointer;\n",
              "      display: none;\n",
              "      fill: #1967D2;\n",
              "      height: 32px;\n",
              "      padding: 0 0 0 0;\n",
              "      width: 32px;\n",
              "    }\n",
              "\n",
              "    .colab-df-convert:hover {\n",
              "      background-color: #E2EBFA;\n",
              "      box-shadow: 0px 1px 2px rgba(60, 64, 67, 0.3), 0px 1px 3px 1px rgba(60, 64, 67, 0.15);\n",
              "      fill: #174EA6;\n",
              "    }\n",
              "\n",
              "    [theme=dark] .colab-df-convert {\n",
              "      background-color: #3B4455;\n",
              "      fill: #D2E3FC;\n",
              "    }\n",
              "\n",
              "    [theme=dark] .colab-df-convert:hover {\n",
              "      background-color: #434B5C;\n",
              "      box-shadow: 0px 1px 3px 1px rgba(0, 0, 0, 0.15);\n",
              "      filter: drop-shadow(0px 1px 2px rgba(0, 0, 0, 0.3));\n",
              "      fill: #FFFFFF;\n",
              "    }\n",
              "  </style>\n",
              "\n",
              "      <script>\n",
              "        const buttonEl =\n",
              "          document.querySelector('#df-4442c7e9-48a1-4bad-a506-4e57f349f127 button.colab-df-convert');\n",
              "        buttonEl.style.display =\n",
              "          google.colab.kernel.accessAllowed ? 'block' : 'none';\n",
              "\n",
              "        async function convertToInteractive(key) {\n",
              "          const element = document.querySelector('#df-4442c7e9-48a1-4bad-a506-4e57f349f127');\n",
              "          const dataTable =\n",
              "            await google.colab.kernel.invokeFunction('convertToInteractive',\n",
              "                                                     [key], {});\n",
              "          if (!dataTable) return;\n",
              "\n",
              "          const docLinkHtml = 'Like what you see? Visit the ' +\n",
              "            '<a target=\"_blank\" href=https://colab.research.google.com/notebooks/data_table.ipynb>data table notebook</a>'\n",
              "            + ' to learn more about interactive tables.';\n",
              "          element.innerHTML = '';\n",
              "          dataTable['output_type'] = 'display_data';\n",
              "          await google.colab.output.renderOutput(dataTable, element);\n",
              "          const docLink = document.createElement('div');\n",
              "          docLink.innerHTML = docLinkHtml;\n",
              "          element.appendChild(docLink);\n",
              "        }\n",
              "      </script>\n",
              "    </div>\n",
              "  </div>\n",
              "  "
            ]
          },
          "metadata": {},
          "execution_count": 5
        }
      ],
      "source": [
        "df.head()"
      ]
    },
    {
      "cell_type": "markdown",
      "metadata": {
        "id": "u_ZjdJ01ZpfM"
      },
      "source": [
        "# Tokenizer"
      ]
    },
    {
      "cell_type": "code",
      "execution_count": null,
      "metadata": {
        "id": "PLzNVclhU-rk"
      },
      "outputs": [],
      "source": [
        "MAX_NB_WORDS = 200000\n",
        "tokenizer = Tokenizer(num_words = MAX_NB_WORDS)\n",
        "tokenizer.fit_on_texts(list(df['question1'].values.astype(str))+list(df['question2'].values.astype(str)))"
      ]
    },
    {
      "cell_type": "markdown",
      "metadata": {
        "id": "CLapnS8yZ5Lq"
      },
      "source": [
        "# Padding and sequencing"
      ]
    },
    {
      "cell_type": "code",
      "execution_count": null,
      "metadata": {
        "id": "SZXqVmKxZlyH"
      },
      "outputs": [],
      "source": [
        "#for question1\n",
        "X_train_q1 = tokenizer.texts_to_sequences(df['question1'].values.astype(str))\n",
        "X_train_q1 = pad_sequences(X_train_q1, maxlen = 30, padding='post')\n",
        "\n",
        "# for question2\n",
        "X_train_q2 = tokenizer.texts_to_sequences(df['question2'].values.astype(str))\n",
        "X_train_q2 = pad_sequences(X_train_q2, maxlen = 30, padding='post')"
      ]
    },
    {
      "cell_type": "code",
      "source": [
        "df[\"seq1\"]=list(X_train_q1)"
      ],
      "metadata": {
        "id": "TGX0Bk3Uy586"
      },
      "execution_count": null,
      "outputs": []
    },
    {
      "cell_type": "code",
      "source": [
        "df[\"seq2\"]=list(X_train_q2)"
      ],
      "metadata": {
        "id": "r8kwua_QzJpT"
      },
      "execution_count": null,
      "outputs": []
    },
    {
      "cell_type": "code",
      "source": [
        "df.head()"
      ],
      "metadata": {
        "colab": {
          "base_uri": "https://localhost:8080/",
          "height": 441
        },
        "id": "ZifADD9YzFqp",
        "outputId": "f10d928d-fb0d-4b3c-d33d-ccfd208a5327"
      },
      "execution_count": null,
      "outputs": [
        {
          "output_type": "execute_result",
          "data": {
            "text/plain": [
              "   Unnamed: 0  id  qid1  qid2  \\\n",
              "0           0   0     1     2   \n",
              "1           1   1     3     4   \n",
              "2           2   2     5     6   \n",
              "3           3   3     7     8   \n",
              "4           4   4     9    10   \n",
              "\n",
              "                                           question1  \\\n",
              "0          step step guide invest share market india   \n",
              "1                    story kohinoor koh noor diamond   \n",
              "2       increase speed internet connection using vpn   \n",
              "3                              mentally lonely solve   \n",
              "4  one dissolve water quikly sugar salt methane c...   \n",
              "\n",
              "                                           question2  is_duplicate  \\\n",
              "0                step step guide invest share market             0   \n",
              "1  would happen indian government stole kohinoor ...             0   \n",
              "2               internet speed increased hacking dns             0   \n",
              "3       find remainder math 23 24 math divided 24 23             0   \n",
              "4                      fish would survive salt water             0   \n",
              "\n",
              "                                                seq1  \\\n",
              "0  [1105, 1105, 2438, 471, 648, 283, 3, 0, 0, 0, ...   \n",
              "1  [444, 14006, 13323, 20807, 4362, 0, 0, 0, 0, 0...   \n",
              "2  [135, 337, 265, 1688, 75, 2638, 0, 0, 0, 0, 0,...   \n",
              "3  [2639, 2619, 540, 0, 0, 0, 0, 0, 0, 0, 0, 0, 0...   \n",
              "4  [9, 6934, 145, 34126, 1763, 1906, 10353, 1792,...   \n",
              "\n",
              "                                                seq2  \n",
              "0  [1105, 1105, 2438, 471, 648, 283, 0, 0, 0, 0, ...  \n",
              "1  [7, 105, 26, 142, 11086, 14006, 13323, 20807, ...  \n",
              "2  [265, 337, 3189, 1223, 10518, 0, 0, 0, 0, 0, 0...  \n",
              "3  [29, 4018, 144, 2086, 1215, 144, 2317, 1215, 2...  \n",
              "4  [1804, 7, 1124, 1906, 145, 0, 0, 0, 0, 0, 0, 0...  "
            ],
            "text/html": [
              "\n",
              "  <div id=\"df-463cf19d-def9-4127-9d66-ced915e10e5d\">\n",
              "    <div class=\"colab-df-container\">\n",
              "      <div>\n",
              "<style scoped>\n",
              "    .dataframe tbody tr th:only-of-type {\n",
              "        vertical-align: middle;\n",
              "    }\n",
              "\n",
              "    .dataframe tbody tr th {\n",
              "        vertical-align: top;\n",
              "    }\n",
              "\n",
              "    .dataframe thead th {\n",
              "        text-align: right;\n",
              "    }\n",
              "</style>\n",
              "<table border=\"1\" class=\"dataframe\">\n",
              "  <thead>\n",
              "    <tr style=\"text-align: right;\">\n",
              "      <th></th>\n",
              "      <th>Unnamed: 0</th>\n",
              "      <th>id</th>\n",
              "      <th>qid1</th>\n",
              "      <th>qid2</th>\n",
              "      <th>question1</th>\n",
              "      <th>question2</th>\n",
              "      <th>is_duplicate</th>\n",
              "      <th>seq1</th>\n",
              "      <th>seq2</th>\n",
              "    </tr>\n",
              "  </thead>\n",
              "  <tbody>\n",
              "    <tr>\n",
              "      <th>0</th>\n",
              "      <td>0</td>\n",
              "      <td>0</td>\n",
              "      <td>1</td>\n",
              "      <td>2</td>\n",
              "      <td>step step guide invest share market india</td>\n",
              "      <td>step step guide invest share market</td>\n",
              "      <td>0</td>\n",
              "      <td>[1105, 1105, 2438, 471, 648, 283, 3, 0, 0, 0, ...</td>\n",
              "      <td>[1105, 1105, 2438, 471, 648, 283, 0, 0, 0, 0, ...</td>\n",
              "    </tr>\n",
              "    <tr>\n",
              "      <th>1</th>\n",
              "      <td>1</td>\n",
              "      <td>1</td>\n",
              "      <td>3</td>\n",
              "      <td>4</td>\n",
              "      <td>story kohinoor koh noor diamond</td>\n",
              "      <td>would happen indian government stole kohinoor ...</td>\n",
              "      <td>0</td>\n",
              "      <td>[444, 14006, 13323, 20807, 4362, 0, 0, 0, 0, 0...</td>\n",
              "      <td>[7, 105, 26, 142, 11086, 14006, 13323, 20807, ...</td>\n",
              "    </tr>\n",
              "    <tr>\n",
              "      <th>2</th>\n",
              "      <td>2</td>\n",
              "      <td>2</td>\n",
              "      <td>5</td>\n",
              "      <td>6</td>\n",
              "      <td>increase speed internet connection using vpn</td>\n",
              "      <td>internet speed increased hacking dns</td>\n",
              "      <td>0</td>\n",
              "      <td>[135, 337, 265, 1688, 75, 2638, 0, 0, 0, 0, 0,...</td>\n",
              "      <td>[265, 337, 3189, 1223, 10518, 0, 0, 0, 0, 0, 0...</td>\n",
              "    </tr>\n",
              "    <tr>\n",
              "      <th>3</th>\n",
              "      <td>3</td>\n",
              "      <td>3</td>\n",
              "      <td>7</td>\n",
              "      <td>8</td>\n",
              "      <td>mentally lonely solve</td>\n",
              "      <td>find remainder math 23 24 math divided 24 23</td>\n",
              "      <td>0</td>\n",
              "      <td>[2639, 2619, 540, 0, 0, 0, 0, 0, 0, 0, 0, 0, 0...</td>\n",
              "      <td>[29, 4018, 144, 2086, 1215, 144, 2317, 1215, 2...</td>\n",
              "    </tr>\n",
              "    <tr>\n",
              "      <th>4</th>\n",
              "      <td>4</td>\n",
              "      <td>4</td>\n",
              "      <td>9</td>\n",
              "      <td>10</td>\n",
              "      <td>one dissolve water quikly sugar salt methane c...</td>\n",
              "      <td>fish would survive salt water</td>\n",
              "      <td>0</td>\n",
              "      <td>[9, 6934, 145, 34126, 1763, 1906, 10353, 1792,...</td>\n",
              "      <td>[1804, 7, 1124, 1906, 145, 0, 0, 0, 0, 0, 0, 0...</td>\n",
              "    </tr>\n",
              "  </tbody>\n",
              "</table>\n",
              "</div>\n",
              "      <button class=\"colab-df-convert\" onclick=\"convertToInteractive('df-463cf19d-def9-4127-9d66-ced915e10e5d')\"\n",
              "              title=\"Convert this dataframe to an interactive table.\"\n",
              "              style=\"display:none;\">\n",
              "        \n",
              "  <svg xmlns=\"http://www.w3.org/2000/svg\" height=\"24px\"viewBox=\"0 0 24 24\"\n",
              "       width=\"24px\">\n",
              "    <path d=\"M0 0h24v24H0V0z\" fill=\"none\"/>\n",
              "    <path d=\"M18.56 5.44l.94 2.06.94-2.06 2.06-.94-2.06-.94-.94-2.06-.94 2.06-2.06.94zm-11 1L8.5 8.5l.94-2.06 2.06-.94-2.06-.94L8.5 2.5l-.94 2.06-2.06.94zm10 10l.94 2.06.94-2.06 2.06-.94-2.06-.94-.94-2.06-.94 2.06-2.06.94z\"/><path d=\"M17.41 7.96l-1.37-1.37c-.4-.4-.92-.59-1.43-.59-.52 0-1.04.2-1.43.59L10.3 9.45l-7.72 7.72c-.78.78-.78 2.05 0 2.83L4 21.41c.39.39.9.59 1.41.59.51 0 1.02-.2 1.41-.59l7.78-7.78 2.81-2.81c.8-.78.8-2.07 0-2.86zM5.41 20L4 18.59l7.72-7.72 1.47 1.35L5.41 20z\"/>\n",
              "  </svg>\n",
              "      </button>\n",
              "      \n",
              "  <style>\n",
              "    .colab-df-container {\n",
              "      display:flex;\n",
              "      flex-wrap:wrap;\n",
              "      gap: 12px;\n",
              "    }\n",
              "\n",
              "    .colab-df-convert {\n",
              "      background-color: #E8F0FE;\n",
              "      border: none;\n",
              "      border-radius: 50%;\n",
              "      cursor: pointer;\n",
              "      display: none;\n",
              "      fill: #1967D2;\n",
              "      height: 32px;\n",
              "      padding: 0 0 0 0;\n",
              "      width: 32px;\n",
              "    }\n",
              "\n",
              "    .colab-df-convert:hover {\n",
              "      background-color: #E2EBFA;\n",
              "      box-shadow: 0px 1px 2px rgba(60, 64, 67, 0.3), 0px 1px 3px 1px rgba(60, 64, 67, 0.15);\n",
              "      fill: #174EA6;\n",
              "    }\n",
              "\n",
              "    [theme=dark] .colab-df-convert {\n",
              "      background-color: #3B4455;\n",
              "      fill: #D2E3FC;\n",
              "    }\n",
              "\n",
              "    [theme=dark] .colab-df-convert:hover {\n",
              "      background-color: #434B5C;\n",
              "      box-shadow: 0px 1px 3px 1px rgba(0, 0, 0, 0.15);\n",
              "      filter: drop-shadow(0px 1px 2px rgba(0, 0, 0, 0.3));\n",
              "      fill: #FFFFFF;\n",
              "    }\n",
              "  </style>\n",
              "\n",
              "      <script>\n",
              "        const buttonEl =\n",
              "          document.querySelector('#df-463cf19d-def9-4127-9d66-ced915e10e5d button.colab-df-convert');\n",
              "        buttonEl.style.display =\n",
              "          google.colab.kernel.accessAllowed ? 'block' : 'none';\n",
              "\n",
              "        async function convertToInteractive(key) {\n",
              "          const element = document.querySelector('#df-463cf19d-def9-4127-9d66-ced915e10e5d');\n",
              "          const dataTable =\n",
              "            await google.colab.kernel.invokeFunction('convertToInteractive',\n",
              "                                                     [key], {});\n",
              "          if (!dataTable) return;\n",
              "\n",
              "          const docLinkHtml = 'Like what you see? Visit the ' +\n",
              "            '<a target=\"_blank\" href=https://colab.research.google.com/notebooks/data_table.ipynb>data table notebook</a>'\n",
              "            + ' to learn more about interactive tables.';\n",
              "          element.innerHTML = '';\n",
              "          dataTable['output_type'] = 'display_data';\n",
              "          await google.colab.output.renderOutput(dataTable, element);\n",
              "          const docLink = document.createElement('div');\n",
              "          docLink.innerHTML = docLinkHtml;\n",
              "          element.appendChild(docLink);\n",
              "        }\n",
              "      </script>\n",
              "    </div>\n",
              "  </div>\n",
              "  "
            ]
          },
          "metadata": {},
          "execution_count": 49
        }
      ]
    },
    {
      "cell_type": "code",
      "source": [
        "df.info()"
      ],
      "metadata": {
        "colab": {
          "base_uri": "https://localhost:8080/"
        },
        "id": "k89DBFTf0Ab0",
        "outputId": "d29e8d11-de63-4320-c667-2bea73128aa4"
      },
      "execution_count": null,
      "outputs": [
        {
          "output_type": "stream",
          "name": "stdout",
          "text": [
            "<class 'pandas.core.frame.DataFrame'>\n",
            "RangeIndex: 404290 entries, 0 to 404289\n",
            "Data columns (total 9 columns):\n",
            " #   Column        Non-Null Count   Dtype \n",
            "---  ------        --------------   ----- \n",
            " 0   Unnamed: 0    404290 non-null  int64 \n",
            " 1   id            404290 non-null  int64 \n",
            " 2   qid1          404290 non-null  int64 \n",
            " 3   qid2          404290 non-null  int64 \n",
            " 4   question1     404203 non-null  object\n",
            " 5   question2     404213 non-null  object\n",
            " 6   is_duplicate  404290 non-null  int64 \n",
            " 7   seq1          404290 non-null  object\n",
            " 8   seq2          404290 non-null  object\n",
            "dtypes: int64(5), object(4)\n",
            "memory usage: 27.8+ MB\n"
          ]
        }
      ]
    },
    {
      "cell_type": "code",
      "execution_count": null,
      "metadata": {
        "colab": {
          "base_uri": "https://localhost:8080/"
        },
        "id": "nM4Zp2rGaNmh",
        "outputId": "7242a469-66b5-4c2a-cdbd-d575113871e1"
      },
      "outputs": [
        {
          "output_type": "execute_result",
          "data": {
            "text/plain": [
              "{1: 'best',\n",
              " 2: 'get',\n",
              " 3: 'india',\n",
              " 4: 'people',\n",
              " 5: 'like',\n",
              " 6: 'good',\n",
              " 7: 'would',\n",
              " 8: 'n',\n",
              " 9: 'one',\n",
              " 10: 'quora',\n",
              " 11: 'make',\n",
              " 12: 'way',\n",
              " 13: 'life',\n",
              " 14: 'time',\n",
              " 15: 'money',\n",
              " 16: 'know',\n",
              " 17: 'difference',\n",
              " 18: 'learn',\n",
              " 19: 'new',\n",
              " 20: 'use',\n",
              " 21: 'much',\n",
              " 22: 'someone',\n",
              " 23: 'think',\n",
              " 24: 'many',\n",
              " 25: 'work',\n",
              " 26: 'indian',\n",
              " 27: 'trump',\n",
              " 28: 'ever',\n",
              " 29: 'find',\n",
              " 30: 'without',\n",
              " 31: 'world',\n",
              " 32: 'become',\n",
              " 33: 'start',\n",
              " 34: 'online',\n",
              " 35: 'first',\n",
              " 36: 'better',\n",
              " 37: 'year',\n",
              " 38: 'want',\n",
              " 39: 'mean',\n",
              " 40: '2',\n",
              " 41: 'job',\n",
              " 42: 'english',\n",
              " 43: 'us',\n",
              " 44: 'could',\n",
              " 45: '1',\n",
              " 46: 'feel',\n",
              " 47: 'love',\n",
              " 48: '2016',\n",
              " 49: 'take',\n",
              " 50: 'possible',\n",
              " 51: 'day',\n",
              " 52: '500',\n",
              " 53: 'things',\n",
              " 54: 'questions',\n",
              " 55: 'go',\n",
              " 56: 'notes',\n",
              " 57: 'phone',\n",
              " 58: '1000',\n",
              " 59: 'buy',\n",
              " 60: 'really',\n",
              " 61: 'ways',\n",
              " 62: 'person',\n",
              " 63: 'engineering',\n",
              " 64: 'account',\n",
              " 65: 'weight',\n",
              " 66: '3',\n",
              " 67: 'used',\n",
              " 68: 'donald',\n",
              " 69: 'long',\n",
              " 70: 'google',\n",
              " 71: 'girl',\n",
              " 72: 'old',\n",
              " 73: 'number',\n",
              " 74: 'improve',\n",
              " 75: 'using',\n",
              " 76: 'need',\n",
              " 77: 'business',\n",
              " 78: 'facebook',\n",
              " 79: '5',\n",
              " 80: 'books',\n",
              " 81: 'language',\n",
              " 82: 'stop',\n",
              " 83: 'lose',\n",
              " 84: 'sex',\n",
              " 85: 'movie',\n",
              " 86: 'different',\n",
              " 87: 'thing',\n",
              " 88: 'black',\n",
              " 89: 'ca',\n",
              " 90: 'book',\n",
              " 91: 'free',\n",
              " 92: 'see',\n",
              " 93: 'war',\n",
              " 94: 'years',\n",
              " 95: 'compare',\n",
              " 96: 'question',\n",
              " 97: 'going',\n",
              " 98: 'programming',\n",
              " 99: 'still',\n",
              " 100: 'instagram',\n",
              " 101: 'president',\n",
              " 102: 'help',\n",
              " 103: 'company',\n",
              " 104: 'change',\n",
              " 105: 'happen',\n",
              " 106: 'movies',\n",
              " 107: 'women',\n",
              " 108: 'app',\n",
              " 109: 'college',\n",
              " 110: 'real',\n",
              " 111: 'prepare',\n",
              " 112: 'android',\n",
              " 113: 'c',\n",
              " 114: 'clinton',\n",
              " 115: 'examples',\n",
              " 116: 'computer',\n",
              " 117: '10',\n",
              " 118: 'country',\n",
              " 119: 'live',\n",
              " 120: 'website',\n",
              " 121: 'back',\n",
              " 122: 'ask',\n",
              " 123: 'rs',\n",
              " 124: 'iphone',\n",
              " 125: 'learning',\n",
              " 126: 'data',\n",
              " 127: 'system',\n",
              " 128: 'important',\n",
              " 129: 'bad',\n",
              " 130: 'win',\n",
              " 131: 'study',\n",
              " 132: 'made',\n",
              " 133: 'top',\n",
              " 134: 'hillary',\n",
              " 135: 'increase',\n",
              " 136: '4',\n",
              " 137: 'school',\n",
              " 138: 'science',\n",
              " 139: 'read',\n",
              " 140: 'two',\n",
              " 141: 'software',\n",
              " 142: 'government',\n",
              " 143: 'earn',\n",
              " 144: 'math',\n",
              " 145: 'water',\n",
              " 146: 'card',\n",
              " 147: 'men',\n",
              " 148: 'student',\n",
              " 149: 'mobile',\n",
              " 150: 'high',\n",
              " 151: 'car',\n",
              " 152: 'say',\n",
              " 153: 'exam',\n",
              " 154: 'energy',\n",
              " 155: 'name',\n",
              " 156: 'word',\n",
              " 157: 'university',\n",
              " 158: 'give',\n",
              " 159: 'anyone',\n",
              " 160: 'getting',\n",
              " 161: 'earth',\n",
              " 162: 'com',\n",
              " 163: 'companies',\n",
              " 164: 'right',\n",
              " 165: 'china',\n",
              " 166: 'true',\n",
              " 167: 'average',\n",
              " 168: 'b',\n",
              " 169: 'home',\n",
              " 170: 'days',\n",
              " 171: 'laptop',\n",
              " 172: 'web',\n",
              " 173: '2017',\n",
              " 174: 'come',\n",
              " 175: 'friend',\n",
              " 176: 'career',\n",
              " 177: 'even',\n",
              " 178: 'hair',\n",
              " 179: 'tell',\n",
              " 180: 'look',\n",
              " 181: 'answer',\n",
              " 182: 'interview',\n",
              " 183: 'social',\n",
              " 184: 'video',\n",
              " 185: 'bank',\n",
              " 186: 'travel',\n",
              " 187: 'friends',\n",
              " 188: 'usa',\n",
              " 189: 'meaning',\n",
              " 190: 'guy',\n",
              " 191: 'write',\n",
              " 192: 'man',\n",
              " 193: 'safe',\n",
              " 194: '6',\n",
              " 195: 'watch',\n",
              " 196: 'youtube',\n",
              " 197: 'students',\n",
              " 198: 'cost',\n",
              " 199: 'pakistan',\n",
              " 200: 'password',\n",
              " 201: 'done',\n",
              " 202: 'non',\n",
              " 203: 'eat',\n",
              " 204: 'working',\n",
              " 205: 'x',\n",
              " 206: 'rupee',\n",
              " 207: 'relationship',\n",
              " 208: 'experience',\n",
              " 209: 'place',\n",
              " 210: 'happens',\n",
              " 211: 'u',\n",
              " 212: 'girls',\n",
              " 213: 'food',\n",
              " 214: 'game',\n",
              " 215: 'tv',\n",
              " 216: 'rid',\n",
              " 217: 'big',\n",
              " 218: 'mind',\n",
              " 219: 'service',\n",
              " 220: 'human',\n",
              " 221: 'whatsapp',\n",
              " 222: 'play',\n",
              " 223: '7',\n",
              " 224: 'countries',\n",
              " 225: 'favorite',\n",
              " 226: 'major',\n",
              " 227: 'future',\n",
              " 228: 'history',\n",
              " 229: 'employees',\n",
              " 230: 'affect',\n",
              " 231: 'end',\n",
              " 232: 'download',\n",
              " 233: 'modi',\n",
              " 234: 'white',\n",
              " 235: 'tech',\n",
              " 236: 'state',\n",
              " 237: 'engineer',\n",
              " 238: 'believe',\n",
              " 239: 'great',\n",
              " 240: 'process',\n",
              " 241: 'tips',\n",
              " 242: 'skills',\n",
              " 243: 'last',\n",
              " 244: 'exist',\n",
              " 245: 'body',\n",
              " 246: 'election',\n",
              " 247: 'effects',\n",
              " 248: 'every',\n",
              " 249: 'chinese',\n",
              " 250: 'age',\n",
              " 251: 'test',\n",
              " 252: 'email',\n",
              " 253: 'support',\n",
              " 254: 'java',\n",
              " 255: 'delhi',\n",
              " 256: 'next',\n",
              " 257: 'marketing',\n",
              " 258: 'god',\n",
              " 259: 'create',\n",
              " 260: 'mechanical',\n",
              " 261: 'differences',\n",
              " 262: 'class',\n",
              " 263: 'girlfriend',\n",
              " 264: 'month',\n",
              " 265: 'internet',\n",
              " 266: 'hard',\n",
              " 267: 'places',\n",
              " 268: 'e',\n",
              " 269: 'makes',\n",
              " 270: 'interesting',\n",
              " 271: 'states',\n",
              " 272: 'got',\n",
              " 273: 'american',\n",
              " 274: 'making',\n",
              " 275: 'police',\n",
              " 276: 'music',\n",
              " 277: 'visit',\n",
              " 278: 'united',\n",
              " 279: 'windows',\n",
              " 280: 'worth',\n",
              " 281: 'power',\n",
              " 282: 'pay',\n",
              " 283: 'market',\n",
              " 284: 'keep',\n",
              " 285: 'never',\n",
              " 286: 'song',\n",
              " 287: 'salary',\n",
              " 288: 'around',\n",
              " 289: 'woman',\n",
              " 290: 'control',\n",
              " 291: 'actually',\n",
              " 292: 'america',\n",
              " 293: 'course',\n",
              " 294: 'series',\n",
              " 295: 'culture',\n",
              " 296: 'answers',\n",
              " 297: '8',\n",
              " 298: 'looking',\n",
              " 299: 'code',\n",
              " 300: 'gmail',\n",
              " 301: 'available',\n",
              " 302: 'something',\n",
              " 303: 'fat',\n",
              " 304: 'always',\n",
              " 305: 'considered',\n",
              " 306: 'today',\n",
              " 307: 'another',\n",
              " 308: 'hotel',\n",
              " 309: 'common',\n",
              " 310: 'self',\n",
              " 311: 'months',\n",
              " 312: 'economy',\n",
              " 313: 'writing',\n",
              " 314: 'light',\n",
              " 315: 'apply',\n",
              " 316: 'development',\n",
              " 317: 'universities',\n",
              " 318: 'site',\n",
              " 319: 'delete',\n",
              " 320: 'die',\n",
              " 321: 'jobs',\n",
              " 322: 'parents',\n",
              " 323: 'mba',\n",
              " 324: 'per',\n",
              " 325: 'open',\n",
              " 326: 'happened',\n",
              " 327: 'cat',\n",
              " 328: 'problem',\n",
              " 329: 'idea',\n",
              " 330: 'score',\n",
              " 331: 'type',\n",
              " 332: 'deal',\n",
              " 333: 'services',\n",
              " 334: 'universe',\n",
              " 335: 'kind',\n",
              " 336: 'review',\n",
              " 337: 'speed',\n",
              " 338: 'show',\n",
              " 339: 'behind',\n",
              " 340: 'build',\n",
              " 341: 'well',\n",
              " 342: 'list',\n",
              " 343: 'dark',\n",
              " 344: 'design',\n",
              " 345: 'hack',\n",
              " 346: 'living',\n",
              " 347: 'purpose',\n",
              " 348: '0',\n",
              " 349: 'able',\n",
              " 350: 'worst',\n",
              " 351: 'space',\n",
              " 352: 'bangalore',\n",
              " 353: 'songs',\n",
              " 354: 'note',\n",
              " 355: 'post',\n",
              " 356: 'education',\n",
              " 357: 'near',\n",
              " 358: 'games',\n",
              " 359: 'period',\n",
              " 360: '2000',\n",
              " 361: 'seen',\n",
              " 362: 'family',\n",
              " 363: 'presidential',\n",
              " 364: 'reason',\n",
              " 365: 'date',\n",
              " 366: 'differ',\n",
              " 367: 'wrong',\n",
              " 368: 'reduce',\n",
              " 369: 'run',\n",
              " 370: 'popular',\n",
              " 371: 'digital',\n",
              " 372: 'law',\n",
              " 373: 'cause',\n",
              " 374: 'call',\n",
              " 375: 'current',\n",
              " 376: 'websites',\n",
              " 377: 'private',\n",
              " 378: 'instead',\n",
              " 379: 'height',\n",
              " 380: 'civil',\n",
              " 381: 'asked',\n",
              " 382: 'technology',\n",
              " 383: 'majors',\n",
              " 384: 'join',\n",
              " 385: 'management',\n",
              " 386: 'apple',\n",
              " 387: 'degree',\n",
              " 388: 'air',\n",
              " 389: 'program',\n",
              " 390: 'boyfriend',\n",
              " 391: 'easily',\n",
              " 392: 'apps',\n",
              " 393: 'international',\n",
              " 394: 'hate',\n",
              " 395: 'order',\n",
              " 396: 'traffic',\n",
              " 397: 'sentence',\n",
              " 398: 'facts',\n",
              " 399: 'sleep',\n",
              " 400: 'public',\n",
              " 401: 'biggest',\n",
              " 402: 'based',\n",
              " 403: 'stay',\n",
              " 404: 'times',\n",
              " 405: 'center',\n",
              " 406: 'city',\n",
              " 407: 'main',\n",
              " 408: 'pregnant',\n",
              " 409: 'canada',\n",
              " 410: 'causes',\n",
              " 411: 'search',\n",
              " 412: 'visa',\n",
              " 413: 'currency',\n",
              " 414: 'choose',\n",
              " 415: 'iit',\n",
              " 416: 'sites',\n",
              " 417: 'ms',\n",
              " 418: 'benefits',\n",
              " 419: 'indians',\n",
              " 420: 'compared',\n",
              " 421: 'media',\n",
              " 422: 'python',\n",
              " 423: 'death',\n",
              " 424: 'child',\n",
              " 425: 'less',\n",
              " 426: 'add',\n",
              " 427: 'also',\n",
              " 428: 'small',\n",
              " 429: 'gain',\n",
              " 430: 'drug',\n",
              " 431: 'part',\n",
              " 432: 'california',\n",
              " 433: 'face',\n",
              " 434: 'recover',\n",
              " 435: 'machine',\n",
              " 436: 'wear',\n",
              " 437: 'house',\n",
              " 438: 'startup',\n",
              " 439: 'plan',\n",
              " 440: 'decision',\n",
              " 441: '20',\n",
              " 442: 'successful',\n",
              " 443: 'move',\n",
              " 444: 'story',\n",
              " 445: 'fast',\n",
              " 446: 'fall',\n",
              " 447: 'battle',\n",
              " 448: 'jee',\n",
              " 449: 'products',\n",
              " 450: 'videos',\n",
              " 451: 'stock',\n",
              " 452: 'foreign',\n",
              " 453: 'dog',\n",
              " 454: 'terms',\n",
              " 455: 'remove',\n",
              " 456: 'legal',\n",
              " 457: 'level',\n",
              " 458: 'given',\n",
              " 459: 'value',\n",
              " 460: 'health',\n",
              " 461: 'amazon',\n",
              " 462: 'ban',\n",
              " 463: 'overcome',\n",
              " 464: 'humans',\n",
              " 465: 'normal',\n",
              " 466: 'medical',\n",
              " 467: 'preparation',\n",
              " 468: 'product',\n",
              " 469: 'found',\n",
              " 470: 'views',\n",
              " 471: 'invest',\n",
              " 472: '000',\n",
              " 473: 'banning',\n",
              " 474: 'point',\n",
              " 475: 'etc',\n",
              " 476: 'created',\n",
              " 477: 'profile',\n",
              " 478: 'project',\n",
              " 479: 'vote',\n",
              " 480: 'form',\n",
              " 481: 'ones',\n",
              " 482: 'uk',\n",
              " 483: 'called',\n",
              " 484: 'rate',\n",
              " 485: 'coaching',\n",
              " 486: 'theory',\n",
              " 487: '100',\n",
              " 488: 'known',\n",
              " 489: 'solar',\n",
              " 490: 'gate',\n",
              " 491: 'snapchat',\n",
              " 492: 'drive',\n",
              " 493: 'research',\n",
              " 494: 'easiest',\n",
              " 495: 'ideas',\n",
              " 496: 'side',\n",
              " 497: 'alcohol',\n",
              " 498: 'porn',\n",
              " 499: 'physics',\n",
              " 500: 'speak',\n",
              " 501: '9',\n",
              " 502: 'effect',\n",
              " 503: 'hours',\n",
              " 504: 'grow',\n",
              " 505: 'must',\n",
              " 506: 'matter',\n",
              " 507: 'others',\n",
              " 508: 'group',\n",
              " 509: 'send',\n",
              " 510: 'week',\n",
              " 511: 'advice',\n",
              " 512: 'credit',\n",
              " 513: 'single',\n",
              " 514: 'application',\n",
              " 515: 'australia',\n",
              " 516: 'quality',\n",
              " 517: 'sell',\n",
              " 518: '2015',\n",
              " 519: 'ias',\n",
              " 520: 'talk',\n",
              " 521: 'night',\n",
              " 522: 'anything',\n",
              " 523: 'easy',\n",
              " 524: 'full',\n",
              " 525: 'correct',\n",
              " 526: 'follow',\n",
              " 527: 'pros',\n",
              " 528: 'germany',\n",
              " 529: 'cons',\n",
              " 530: 'view',\n",
              " 531: 'russia',\n",
              " 532: 'faster',\n",
              " 533: 'bollywood',\n",
              " 534: 'information',\n",
              " 535: 'sydney',\n",
              " 536: 'famous',\n",
              " 537: 'lot',\n",
              " 538: 'required',\n",
              " 539: 'children',\n",
              " 540: 'solve',\n",
              " 541: 'guys',\n",
              " 542: 'improvement',\n",
              " 543: 'green',\n",
              " 544: 'marks',\n",
              " 545: 'mumbai',\n",
              " 546: 'size',\n",
              " 547: 'field',\n",
              " 548: 'star',\n",
              " 549: 'put',\n",
              " 550: 'low',\n",
              " 551: '15',\n",
              " 552: 'file',\n",
              " 553: 'messages',\n",
              " 554: 'daily',\n",
              " 555: 'advantages',\n",
              " 556: 'courses',\n",
              " 557: 'short',\n",
              " 558: 'institute',\n",
              " 559: '12',\n",
              " 560: 'kill',\n",
              " 561: 'options',\n",
              " 562: 'distance',\n",
              " 563: 'south',\n",
              " 564: 'studying',\n",
              " 565: 'desert',\n",
              " 566: 'security',\n",
              " 567: 'marriage',\n",
              " 568: 'pro',\n",
              " 569: 'rupees',\n",
              " 570: 'similar',\n",
              " 571: 'cell',\n",
              " 572: 'left',\n",
              " 573: 'languages',\n",
              " 574: 'tax',\n",
              " 575: 'suicide',\n",
              " 576: '30',\n",
              " 577: 'force',\n",
              " 578: 'happy',\n",
              " 579: 'effective',\n",
              " 580: 'provider',\n",
              " 581: 'problems',\n",
              " 582: 'general',\n",
              " 583: 'avoid',\n",
              " 584: 'started',\n",
              " 585: 'industry',\n",
              " 586: 'deleted',\n",
              " 587: 'investment',\n",
              " 588: 'healthy',\n",
              " 589: 'function',\n",
              " 590: 'source',\n",
              " 591: 'developer',\n",
              " 592: 'term',\n",
              " 593: 'blood',\n",
              " 594: 'lost',\n",
              " 595: 'safety',\n",
              " 596: 'sim',\n",
              " 597: 'suitable',\n",
              " 598: 'uber',\n",
              " 599: 'message',\n",
              " 600: 'impact',\n",
              " 601: 'set',\n",
              " 602: 'mass',\n",
              " 603: 'three',\n",
              " 604: 'says',\n",
              " 605: 'exactly',\n",
              " 606: 'often',\n",
              " 607: 'dream',\n",
              " 608: 'pc',\n",
              " 609: 'iq',\n",
              " 610: 'colleges',\n",
              " 611: 'photos',\n",
              " 612: 'ex',\n",
              " 613: 'likes',\n",
              " 614: 'blog',\n",
              " 615: 'words',\n",
              " 616: 'beautiful',\n",
              " 617: 'area',\n",
              " 618: 'oil',\n",
              " 619: 'brain',\n",
              " 620: 'jio',\n",
              " 621: 'turn',\n",
              " 622: 'develop',\n",
              " 623: 'text',\n",
              " 624: 'graduate',\n",
              " 625: 'care',\n",
              " 626: 'fix',\n",
              " 627: 'model',\n",
              " 628: 'cold',\n",
              " 629: 'types',\n",
              " 630: 'chemical',\n",
              " 631: 'electrical',\n",
              " 632: 'heard',\n",
              " 633: 'across',\n",
              " 634: 'married',\n",
              " 635: 'party',\n",
              " 636: 'japan',\n",
              " 637: 'page',\n",
              " 638: 'reasons',\n",
              " 639: 'price',\n",
              " 640: 'picture',\n",
              " 641: 'engine',\n",
              " 642: 'net',\n",
              " 643: 'dogs',\n",
              " 644: 'japanese',\n",
              " 645: 'gay',\n",
              " 646: 'pass',\n",
              " 647: 'male',\n",
              " 648: 'share',\n",
              " 649: 'proposed',\n",
              " 650: 'leave',\n",
              " 651: 'numbers',\n",
              " 652: 'office',\n",
              " 653: 'contact',\n",
              " 654: 'past',\n",
              " 655: 'training',\n",
              " 656: 'second',\n",
              " 657: 'understand',\n",
              " 658: 'address',\n",
              " 659: 'check',\n",
              " 660: 'store',\n",
              " 661: 'enough',\n",
              " 662: 'north',\n",
              " 663: 'team',\n",
              " 664: 'female',\n",
              " 665: 'eating',\n",
              " 666: 'fight',\n",
              " 667: 'offer',\n",
              " 668: 'line',\n",
              " 669: 'obama',\n",
              " 670: 'hindi',\n",
              " 671: 'red',\n",
              " 672: 'letter',\n",
              " 673: 'coming',\n",
              " 674: 'exams',\n",
              " 675: 'late',\n",
              " 676: 'macbook',\n",
              " 677: 'religion',\n",
              " 678: 'related',\n",
              " 679: 'loss',\n",
              " 680: 'basic',\n",
              " 681: 'access',\n",
              " 682: 'chances',\n",
              " 683: 'ios',\n",
              " 684: 'boy',\n",
              " 685: 'network',\n",
              " 686: 'samsung',\n",
              " 687: 'wife',\n",
              " 688: 'said',\n",
              " 689: 'americans',\n",
              " 690: 'taking',\n",
              " 691: 'prime',\n",
              " 692: 'moment',\n",
              " 693: 'moon',\n",
              " 694: 'quickly',\n",
              " 695: 'topics',\n",
              " 696: 'british',\n",
              " 697: 'calculate',\n",
              " 698: 'political',\n",
              " 699: 'away',\n",
              " 700: 'hyderabad',\n",
              " 701: 'precautions',\n",
              " 702: 'everything',\n",
              " 703: 'meet',\n",
              " 704: 'personal',\n",
              " 705: 'balance',\n",
              " 706: 'gold',\n",
              " 707: 'everyone',\n",
              " 708: 'handling',\n",
              " 709: 'county',\n",
              " 710: 'film',\n",
              " 711: 'penis',\n",
              " 712: 'narendra',\n",
              " 713: 'national',\n",
              " 714: 'smart',\n",
              " 715: 'users',\n",
              " 716: 'changed',\n",
              " 717: 'inr',\n",
              " 718: 'convert',\n",
              " 719: 'mix',\n",
              " 720: 'master',\n",
              " 721: 'chance',\n",
              " 722: 'since',\n",
              " 723: 'panel',\n",
              " 724: 'pune',\n",
              " 725: 'drink',\n",
              " 726: 'depression',\n",
              " 727: 'installation',\n",
              " 728: 'train',\n",
              " 729: 'please',\n",
              " 730: 'following',\n",
              " 731: 'rich',\n",
              " 732: 'army',\n",
              " 733: 'blocked',\n",
              " 734: 'reading',\n",
              " 735: 'recruit',\n",
              " 736: 'galaxy',\n",
              " 737: 'yes',\n",
              " 738: 'communication',\n",
              " 739: 'belly',\n",
              " 740: 'rehab',\n",
              " 741: 'transfer',\n",
              " 742: 'demonetization',\n",
              " 743: '50',\n",
              " 744: 'bill',\n",
              " 745: 'speaking',\n",
              " 746: 'try',\n",
              " 747: 'paid',\n",
              " 748: 'twitter',\n",
              " 749: 'hollywood',\n",
              " 750: 'let',\n",
              " 751: 'option',\n",
              " 752: 'blowing',\n",
              " 753: 'taken',\n",
              " 754: 'likely',\n",
              " 755: 'shotguns',\n",
              " 756: 'animals',\n",
              " 757: 'nra',\n",
              " 758: 'resources',\n",
              " 759: 'news',\n",
              " 760: 'explain',\n",
              " 761: 'role',\n",
              " 762: 'paper',\n",
              " 763: 'solution',\n",
              " 764: 'block',\n",
              " 765: '16',\n",
              " 766: 'crush',\n",
              " 767: 'break',\n",
              " 768: 'earthquake',\n",
              " 769: 'scope',\n",
              " 770: 'color',\n",
              " 771: 'else',\n",
              " 772: 'pok',\n",
              " 773: 'muslims',\n",
              " 774: 'thinking',\n",
              " 775: 'screen',\n",
              " 776: 'laws',\n",
              " 777: 'difficult',\n",
              " 778: 'wants',\n",
              " 779: '11',\n",
              " 780: 'determine',\n",
              " 781: 'already',\n",
              " 782: 'financial',\n",
              " 783: 'policy',\n",
              " 784: 'corruption',\n",
              " 785: 'vs',\n",
              " 786: 'hire',\n",
              " 787: 'diet',\n",
              " 788: 'singapore',\n",
              " 789: 'knowledge',\n",
              " 790: 'dating',\n",
              " 791: 'europe',\n",
              " 792: 'currently',\n",
              " 793: 'studies',\n",
              " 794: 'within',\n",
              " 795: 'season',\n",
              " 796: 'admission',\n",
              " 797: 'officer',\n",
              " 798: 'pain',\n",
              " 799: 'photo',\n",
              " 800: 'opinion',\n",
              " 801: 'blue',\n",
              " 802: 'structure',\n",
              " 803: 'grads',\n",
              " 804: 'least',\n",
              " 805: 'allowed',\n",
              " 806: 'professional',\n",
              " 807: 'sun',\n",
              " 808: 'needing',\n",
              " 809: 'german',\n",
              " 810: 'infinite',\n",
              " 811: 'income',\n",
              " 812: 'linux',\n",
              " 813: 'islam',\n",
              " 814: 'gift',\n",
              " 815: 'amount',\n",
              " 816: 'muslim',\n",
              " 817: 'charge',\n",
              " 818: 'inpatient',\n",
              " 819: 'pictures',\n",
              " 820: 'disadvantages',\n",
              " 821: 'significance',\n",
              " 822: 'greatest',\n",
              " 823: 'skin',\n",
              " 824: 'board',\n",
              " 825: 'internship',\n",
              " 826: 'natural',\n",
              " 827: 'capital',\n",
              " 828: 'tools',\n",
              " 829: 'useful',\n",
              " 830: 'spend',\n",
              " 831: 'negative',\n",
              " 832: 'inside',\n",
              " 833: 'microsoft',\n",
              " 834: 'user',\n",
              " 835: 'fake',\n",
              " 836: 'limit',\n",
              " 837: 'final',\n",
              " 838: 'interested',\n",
              " 839: 'buying',\n",
              " 840: 'property',\n",
              " 841: 'method',\n",
              " 842: 'rank',\n",
              " 843: 'track',\n",
              " 844: 'cut',\n",
              " 845: 'couples',\n",
              " 846: 'estate',\n",
              " 847: 'simple',\n",
              " 848: 'meth',\n",
              " 849: 'wifi',\n",
              " 850: '18',\n",
              " 851: 'seo',\n",
              " 852: 'moral',\n",
              " 853: 'shows',\n",
              " 854: 'starting',\n",
              " 855: 'strategy',\n",
              " 856: 'temperatures',\n",
              " 857: 'smartphone',\n",
              " 858: 'nuclear',\n",
              " 859: 'hand',\n",
              " 860: 'personality',\n",
              " 861: 'character',\n",
              " 862: 'little',\n",
              " 863: 'names',\n",
              " 864: 'written',\n",
              " 865: 'fear',\n",
              " 866: 'mother',\n",
              " 867: 'bring',\n",
              " 868: 'sound',\n",
              " 869: 'attack',\n",
              " 870: 'visiting',\n",
              " 871: 'phd',\n",
              " 872: 'kerala',\n",
              " 873: 'cards',\n",
              " 874: 'passport',\n",
              " 875: 'feeling',\n",
              " 876: 'memory',\n",
              " 877: 'close',\n",
              " 878: 'special',\n",
              " 879: 'followers',\n",
              " 880: 'device',\n",
              " 881: 'stories',\n",
              " 882: 'due',\n",
              " 883: 'french',\n",
              " 884: 'save',\n",
              " 885: 'favourite',\n",
              " 886: 'husband',\n",
              " 887: 'military',\n",
              " 888: 'accounts',\n",
              " 889: 'preparing',\n",
              " 890: 'early',\n",
              " 891: 'install',\n",
              " 892: 'football',\n",
              " 893: 'formula',\n",
              " 894: 'front',\n",
              " 895: 'expect',\n",
              " 896: 'tea',\n",
              " 897: 'western',\n",
              " 898: 'watching',\n",
              " 899: 'percentage',\n",
              " 900: 'camera',\n",
              " 901: 'towards',\n",
              " 902: 'systems',\n",
              " 903: 'crack',\n",
              " 904: 'mac',\n",
              " 905: 'battery',\n",
              " 906: 'marry',\n",
              " 907: 'case',\n",
              " 908: 'land',\n",
              " 909: 'smoking',\n",
              " 910: 'yet',\n",
              " 911: 'prefer',\n",
              " 912: 'necessary',\n",
              " 913: 'doctor',\n",
              " 914: 'minister',\n",
              " 915: 'modern',\n",
              " 916: 'corporate',\n",
              " 917: 'running',\n",
              " 918: 'elections',\n",
              " 919: 'middle',\n",
              " 920: 'deep',\n",
              " 921: 'evidence',\n",
              " 922: 'works',\n",
              " 923: 'gre',\n",
              " 924: 'eye',\n",
              " 925: 'commit',\n",
              " 926: 'eyes',\n",
              " 927: 'illegal',\n",
              " 928: 'anxiety',\n",
              " 929: 'staff',\n",
              " 930: 'phones',\n",
              " 931: 'core',\n",
              " 932: 'coding',\n",
              " 933: 'mon',\n",
              " 934: 'though',\n",
              " 935: 'unmarried',\n",
              " 936: 'society',\n",
              " 937: 'upsc',\n",
              " 938: 'details',\n",
              " 939: 'interest',\n",
              " 940: 'playing',\n",
              " 941: 'beginner',\n",
              " 942: 'schools',\n",
              " 943: 'birthday',\n",
              " 944: 'neet',\n",
              " 945: 'technical',\n",
              " 946: 'provide',\n",
              " 947: 'far',\n",
              " 948: 'chemistry',\n",
              " 949: '13',\n",
              " 950: 'brand',\n",
              " 951: 'intelligence',\n",
              " 952: 'ssc',\n",
              " 953: 'kids',\n",
              " 954: 'viewed',\n",
              " 955: 'positions',\n",
              " 956: 'applications',\n",
              " 957: 'reset',\n",
              " 958: 'positive',\n",
              " 959: 'files',\n",
              " 960: 'dead',\n",
              " 961: 'g',\n",
              " 962: 'head',\n",
              " 963: 'cs',\n",
              " 964: 'version',\n",
              " 965: 'may',\n",
              " 966: 'id',\n",
              " 967: 'exercise',\n",
              " 968: 'harry',\n",
              " 969: 'sbi',\n",
              " 970: 'alone',\n",
              " 971: 'vacuum',\n",
              " 972: 'told',\n",
              " 973: 'planning',\n",
              " 974: 'pressure',\n",
              " 975: 'flat',\n",
              " 976: 'consider',\n",
              " 977: 'anime',\n",
              " 978: 'projects',\n",
              " 979: 'morning',\n",
              " 980: 'yahoo',\n",
              " 981: 'cities',\n",
              " 982: 'wo',\n",
              " 983: 'suggest',\n",
              " 984: 'young',\n",
              " 985: 'father',\n",
              " 986: 'pursue',\n",
              " 987: 'bang',\n",
              " 988: 'commerce',\n",
              " 989: 'together',\n",
              " 990: 'clear',\n",
              " 991: 'cancer',\n",
              " 992: 'r',\n",
              " 993: 'prevent',\n",
              " 994: 'gets',\n",
              " 995: 'olympics',\n",
              " 996: 'dangerous',\n",
              " 997: 'marked',\n",
              " 998: 'minimum',\n",
              " 999: 'art',\n",
              " 1000: 'wars',\n",
              " ...}"
            ]
          },
          "metadata": {},
          "execution_count": 8
        }
      ],
      "source": [
        "tokenizer.index_word"
      ]
    },
    {
      "cell_type": "code",
      "execution_count": null,
      "metadata": {
        "id": "vEVYBb5maU2W"
      },
      "outputs": [],
      "source": [
        "word_index = tokenizer.word_index"
      ]
    },
    {
      "cell_type": "markdown",
      "metadata": {
        "id": "3qUS1Ewgb2Sf"
      },
      "source": [
        "# Donload glove data from kaggle"
      ]
    },
    {
      "cell_type": "code",
      "execution_count": null,
      "metadata": {
        "colab": {
          "base_uri": "https://localhost:8080/"
        },
        "id": "Qn70cKyCb_Hu",
        "outputId": "528c2bad-f4ed-47f1-cdb7-49ca01e21fc7"
      },
      "outputs": [
        {
          "output_type": "stream",
          "name": "stdout",
          "text": [
            "Looking in indexes: https://pypi.org/simple, https://us-python.pkg.dev/colab-wheels/public/simple/\n",
            "Collecting opendatasets\n",
            "  Downloading opendatasets-0.1.22-py3-none-any.whl (15 kB)\n",
            "Requirement already satisfied: tqdm in /usr/local/lib/python3.10/dist-packages (from opendatasets) (4.65.0)\n",
            "Requirement already satisfied: kaggle in /usr/local/lib/python3.10/dist-packages (from opendatasets) (1.5.13)\n",
            "Requirement already satisfied: click in /usr/local/lib/python3.10/dist-packages (from opendatasets) (8.1.3)\n",
            "Requirement already satisfied: six>=1.10 in /usr/local/lib/python3.10/dist-packages (from kaggle->opendatasets) (1.16.0)\n",
            "Requirement already satisfied: certifi in /usr/local/lib/python3.10/dist-packages (from kaggle->opendatasets) (2022.12.7)\n",
            "Requirement already satisfied: python-dateutil in /usr/local/lib/python3.10/dist-packages (from kaggle->opendatasets) (2.8.2)\n",
            "Requirement already satisfied: requests in /usr/local/lib/python3.10/dist-packages (from kaggle->opendatasets) (2.27.1)\n",
            "Requirement already satisfied: python-slugify in /usr/local/lib/python3.10/dist-packages (from kaggle->opendatasets) (8.0.1)\n",
            "Requirement already satisfied: urllib3 in /usr/local/lib/python3.10/dist-packages (from kaggle->opendatasets) (1.26.15)\n",
            "Requirement already satisfied: text-unidecode>=1.3 in /usr/local/lib/python3.10/dist-packages (from python-slugify->kaggle->opendatasets) (1.3)\n",
            "Requirement already satisfied: charset-normalizer~=2.0.0 in /usr/local/lib/python3.10/dist-packages (from requests->kaggle->opendatasets) (2.0.12)\n",
            "Requirement already satisfied: idna<4,>=2.5 in /usr/local/lib/python3.10/dist-packages (from requests->kaggle->opendatasets) (3.4)\n",
            "Installing collected packages: opendatasets\n",
            "Successfully installed opendatasets-0.1.22\n"
          ]
        }
      ],
      "source": [
        "!pip install opendatasets"
      ]
    },
    {
      "cell_type": "code",
      "execution_count": null,
      "metadata": {
        "colab": {
          "base_uri": "https://localhost:8080/"
        },
        "id": "R6s8J_BpcweE",
        "outputId": "ede16fa6-4e2b-465e-a2e6-e32dccbc5450"
      },
      "outputs": [
        {
          "output_type": "stream",
          "name": "stdout",
          "text": [
            "Please provide your Kaggle credentials to download this dataset. Learn more: http://bit.ly/kaggle-creds\n",
            "Your Kaggle username: manish048kumar\n",
            "Your Kaggle Key: ··········\n",
            "Downloading glove-global-vectors-for-word-representation.zip to ./glove-global-vectors-for-word-representation\n"
          ]
        },
        {
          "output_type": "stream",
          "name": "stderr",
          "text": [
            "100%|██████████| 458M/458M [00:05<00:00, 94.5MB/s]\n"
          ]
        },
        {
          "output_type": "stream",
          "name": "stdout",
          "text": [
            "\n"
          ]
        }
      ],
      "source": [
        "import opendatasets as od\n",
        "od.download(\n",
        "    \"https://www.kaggle.com/datasets/rtatman/glove-global-vectors-for-word-representation?select=glove.6B.200d.txt\")"
      ]
    },
    {
      "cell_type": "code",
      "execution_count": null,
      "metadata": {
        "id": "2iNKXwnmdxCt"
      },
      "outputs": [],
      "source": []
    },
    {
      "cell_type": "markdown",
      "metadata": {
        "id": "j0QtyJXya2j3"
      },
      "source": [
        "# Glove word embedding"
      ]
    },
    {
      "cell_type": "code",
      "execution_count": null,
      "metadata": {
        "id": "p4nDrhY_ay0Y"
      },
      "outputs": [],
      "source": [
        "embedding_index = {}\n",
        "with open('./glove-global-vectors-for-word-representation/glove.6B.200d.txt','r') as f:\n",
        "    for line in f:\n",
        "        values = line.split()\n",
        "        word = values[0]\n",
        "        vectors = np.asarray(values[1:], 'float32')\n",
        "        embedding_index[word] = vectors\n",
        "    f.close()"
      ]
    },
    {
      "cell_type": "code",
      "execution_count": null,
      "metadata": {
        "id": "U9y1P3gxeTsh"
      },
      "outputs": [],
      "source": [
        "embedding_matrix = np.random.random((len(word_index)+1, 200))\n",
        "for word, i in word_index.items():\n",
        "    embedding_vector = embedding_index.get(word)\n",
        "    if embedding_vector is not None:\n",
        "        embedding_matrix[i] = embedding_vector"
      ]
    },
    {
      "cell_type": "markdown",
      "metadata": {
        "id": "-nABF9rbfOIM"
      },
      "source": [
        "# LSTM"
      ]
    },
    {
      "cell_type": "code",
      "source": [
        "vocab_size=len(word_index)+1"
      ],
      "metadata": {
        "id": "c5Qkoy2Drxqo"
      },
      "execution_count": null,
      "outputs": []
    },
    {
      "cell_type": "code",
      "source": [
        "labels=df[\"is_duplicate\"].values"
      ],
      "metadata": {
        "id": "GWufp5n50S25"
      },
      "execution_count": null,
      "outputs": []
    },
    {
      "cell_type": "code",
      "source": [
        "labels"
      ],
      "metadata": {
        "colab": {
          "base_uri": "https://localhost:8080/"
        },
        "id": "WTZThOcy0c99",
        "outputId": "a1ef4284-fb6c-47cd-9022-29675aace73c"
      },
      "execution_count": null,
      "outputs": [
        {
          "output_type": "execute_result",
          "data": {
            "text/plain": [
              "array([0, 0, 0, ..., 0, 0, 0])"
            ]
          },
          "metadata": {},
          "execution_count": 57
        }
      ]
    },
    {
      "cell_type": "code",
      "source": [
        "text_input1=Input(shape=(None,),dtype='int32')\n",
        "embedding1=Embedding(vocab_size,64)(text_input1)\n",
        "encoded_text1=LSTM(32)(embedding1)\n",
        "\n",
        "text_input2=Input(shape=(None,),dtype='int32')\n",
        "embedding2=Embedding(vocab_size,64)(text_input2)\n",
        "encoded_text2=LSTM(32)(embedding2)\n",
        "\n",
        "concatenated=concatenate([encoded_text1,encoded_text2],axis=-1)\n",
        "\n",
        "output=Dense(64,activation='relu')(concatenated)\n",
        "output=Dense(1,activation='sigmoid')(output)"
      ],
      "metadata": {
        "id": "qbZCzYOPxIek"
      },
      "execution_count": null,
      "outputs": []
    },
    {
      "cell_type": "code",
      "source": [
        "model=Model([text_input1,text_input2],output)\n",
        "model.compile(optimizer='adam',loss='binary_crossentropy',metrics=['accuracy'])"
      ],
      "metadata": {
        "id": "7f41ZAasyJTi"
      },
      "execution_count": null,
      "outputs": []
    },
    {
      "cell_type": "code",
      "source": [
        "model.summary()"
      ],
      "metadata": {
        "colab": {
          "base_uri": "https://localhost:8080/"
        },
        "id": "igKlQBuAyPbr",
        "outputId": "084711b4-7b89-4df8-9199-219f38ecfe94"
      },
      "execution_count": null,
      "outputs": [
        {
          "output_type": "stream",
          "name": "stdout",
          "text": [
            "Model: \"model_1\"\n",
            "__________________________________________________________________________________________________\n",
            "Layer (type)                    Output Shape         Param #     Connected to                     \n",
            "==================================================================================================\n",
            "input_7 (InputLayer)            [(None, None)]       0                                            \n",
            "__________________________________________________________________________________________________\n",
            "input_8 (InputLayer)            [(None, None)]       0                                            \n",
            "__________________________________________________________________________________________________\n",
            "embedding_15 (Embedding)        (None, None, 64)     5450176     input_7[0][0]                    \n",
            "__________________________________________________________________________________________________\n",
            "embedding_16 (Embedding)        (None, None, 64)     5450176     input_8[0][0]                    \n",
            "__________________________________________________________________________________________________\n",
            "lstm_38 (LSTM)                  (None, 32)           12416       embedding_15[0][0]               \n",
            "__________________________________________________________________________________________________\n",
            "lstm_39 (LSTM)                  (None, 32)           12416       embedding_16[0][0]               \n",
            "__________________________________________________________________________________________________\n",
            "concatenate_3 (Concatenate)     (None, 64)           0           lstm_38[0][0]                    \n",
            "                                                                 lstm_39[0][0]                    \n",
            "__________________________________________________________________________________________________\n",
            "dense_18 (Dense)                (None, 64)           4160        concatenate_3[0][0]              \n",
            "__________________________________________________________________________________________________\n",
            "dense_19 (Dense)                (None, 1)            65          dense_18[0][0]                   \n",
            "==================================================================================================\n",
            "Total params: 10,929,409\n",
            "Trainable params: 10,929,409\n",
            "Non-trainable params: 0\n",
            "__________________________________________________________________________________________________\n"
          ]
        }
      ]
    },
    {
      "cell_type": "code",
      "source": [
        "from keras.utils.vis_utils import plot_model\n",
        "plot_model(model, to_file='model_plot.png', show_shapes=True, show_layer_names=True)"
      ],
      "metadata": {
        "colab": {
          "base_uri": "https://localhost:8080/",
          "height": 644
        },
        "id": "7AK3QnCG3YTr",
        "outputId": "8b4aee6f-b9ac-4b57-9040-18af8ace4bf8"
      },
      "execution_count": null,
      "outputs": [
        {
          "output_type": "execute_result",
          "data": {
            "image/png": "[encoded data removed]",
            "text/plain": [
              "<IPython.core.display.Image object>"
            ]
          },
          "metadata": {},
          "execution_count": 59
        }
      ]
    },
    {
      "cell_type": "code",
      "source": [
        "hist = model.fit([X_train_q1,X_train_q2],labels,epochs = 10,batch_size=128)"
      ],
      "metadata": {
        "colab": {
          "base_uri": "https://localhost:8080/"
        },
        "id": "dykbtexUyRaW",
        "outputId": "9749c76d-a009-4d76-810a-6b21aab7ac7c"
      },
      "execution_count": null,
      "outputs": [
        {
          "output_type": "stream",
          "name": "stdout",
          "text": [
            "Epoch 1/10\n",
            "3159/3159 [==============================] - 698s 219ms/step - loss: 0.5191 - accuracy: 0.7422\n",
            "Epoch 2/10\n",
            "3159/3159 [==============================] - 704s 223ms/step - loss: 0.4494 - accuracy: 0.7848\n",
            "Epoch 3/10\n",
            "3159/3159 [==============================] - 698s 221ms/step - loss: 0.4038 - accuracy: 0.8071\n",
            "Epoch 4/10\n",
            "3159/3159 [==============================] - 695s 220ms/step - loss: 0.3608 - accuracy: 0.8272\n",
            "Epoch 5/10\n",
            "3159/3159 [==============================] - 690s 218ms/step - loss: 0.3193 - accuracy: 0.8488\n",
            "Epoch 6/10\n",
            "3159/3159 [==============================] - 688s 218ms/step - loss: 0.2843 - accuracy: 0.8660\n",
            "Epoch 7/10\n",
            "3159/3159 [==============================] - 697s 220ms/step - loss: 0.2541 - accuracy: 0.8812\n",
            "Epoch 8/10\n",
            "3159/3159 [==============================] - 695s 220ms/step - loss: 0.2274 - accuracy: 0.8944\n",
            "Epoch 9/10\n",
            " 481/3159 [===>..........................] - ETA: 9:38 - loss: 0.1852 - accuracy: 0.9144"
          ]
        }
      ]
    }
  ],
  "metadata": {
    "colab": {
      "provenance": [],
      "include_colab_link": true
    },
    "kernelspec": {
      "display_name": "Python 3",
      "language": "python",
      "name": "python3"
    },
    "language_info": {
      "codemirror_mode": {
        "name": "ipython",
        "version": 3
      },
      "file_extension": ".py",
      "mimetype": "text/x-python",
      "name": "python",
      "nbconvert_exporter": "python",
      "pygments_lexer": "ipython3",
      "version": "3.8.8"
    }
  },
  "nbformat": 4,
  "nbformat_minor": 0
}